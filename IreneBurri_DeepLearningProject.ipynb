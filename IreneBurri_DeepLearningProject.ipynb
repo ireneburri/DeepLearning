{
 "cells": [
  {
   "cell_type": "markdown",
   "id": "cc24a34c",
   "metadata": {
    "papermill": {
     "duration": 0.019899,
     "end_time": "2024-06-11T18:31:20.744251",
     "exception": false,
     "start_time": "2024-06-11T18:31:20.724352",
     "status": "completed"
    },
    "tags": []
   },
   "source": [
    "# Deep Learning project - 14/06/2024\n",
    "\n",
    "- Irene Burri\n",
    "- ID 0001120380"
   ]
  },
  {
   "cell_type": "markdown",
   "id": "535dd88c",
   "metadata": {
    "papermill": {
     "duration": 0.019028,
     "end_time": "2024-06-11T18:31:20.782759",
     "exception": false,
     "start_time": "2024-06-11T18:31:20.763731",
     "status": "completed"
    },
    "tags": []
   },
   "source": [
    "The purpose of this project is to take in input a sequence of words corresponding to a random permutation of a given english sentence, and reconstruct the original sentence.\n",
    "\n",
    "The output can be either produced in a single shot, or through an iterative (autoregressive) loop generating a single token at a time.\n",
    "\n",
    "\n",
    "CONSTRAINTS:\n",
    "* No pretrained model can be used.\n",
    "* The neural network models should have less the 20M parameters.\n",
    "* No postprocessing should be done (e.g. no beamsearch)\n",
    "* You cannot use additional training data.\n",
    "\n",
    "\n",
    "BONUS PARAMETERS:\n",
    "\n",
    "A bonus of 0-2 points will be attributed to incentivate the adoption of models with a low number of parameters."
   ]
  },
  {
   "cell_type": "markdown",
   "id": "4189c376",
   "metadata": {},
   "source": [
    "## Import the libraries"
   ]
  },
  {
   "cell_type": "code",
   "execution_count": 2,
   "id": "8a8d545c",
   "metadata": {
    "execution": {
     "iopub.execute_input": "2024-06-11T18:31:34.248421Z",
     "iopub.status.busy": "2024-06-11T18:31:34.247787Z",
     "iopub.status.idle": "2024-06-11T18:31:47.555871Z",
     "shell.execute_reply": "2024-06-11T18:31:47.554952Z"
    },
    "papermill": {
     "duration": 13.331436,
     "end_time": "2024-06-11T18:31:47.558089",
     "exception": false,
     "start_time": "2024-06-11T18:31:34.226653",
     "status": "completed"
    },
    "tags": []
   },
   "outputs": [
    {
     "name": "stderr",
     "output_type": "stream",
     "text": [
      "2024-06-11 18:31:37.720850: E external/local_xla/xla/stream_executor/cuda/cuda_dnn.cc:9261] Unable to register cuDNN factory: Attempting to register factory for plugin cuDNN when one has already been registered\n",
      "2024-06-11 18:31:37.720949: E external/local_xla/xla/stream_executor/cuda/cuda_fft.cc:607] Unable to register cuFFT factory: Attempting to register factory for plugin cuFFT when one has already been registered\n",
      "2024-06-11 18:31:37.849949: E external/local_xla/xla/stream_executor/cuda/cuda_blas.cc:1515] Unable to register cuBLAS factory: Attempting to register factory for plugin cuBLAS when one has already been registered\n"
     ]
    }
   ],
   "source": [
    "#!pip install --upgrade keras\n",
    "\n",
    "from datasets import load_dataset\n",
    "import tensorflow as tf\n",
    "import numpy as np\n",
    "import keras\n",
    "import keras.layers as layers\n",
    "import keras.ops as ops\n",
    "from keras import backend as K\n",
    "from difflib import SequenceMatcher\n",
    "from keras.layers import TextVectorization, MultiHeadAttention, LayerNormalization\n",
    "from tensorflow.keras.utils import Sequence\n",
    "import os\n",
    "import datetime\n",
    "import random \n",
    "import matplotlib as plt\n",
    "\n",
    "# Setting the seed\n",
    "seed = 42\n",
    "np.random.seed(seed)\n",
    "tf.random.set_seed(seed)\n",
    "random.seed(seed)"
   ]
  },
  {
   "cell_type": "markdown",
   "id": "21c39c1d",
   "metadata": {
    "papermill": {
     "duration": 0.01986,
     "end_time": "2024-06-11T18:31:20.821797",
     "exception": false,
     "start_time": "2024-06-11T18:31:20.801937",
     "status": "completed"
    },
    "tags": []
   },
   "source": [
    "## Dataset\n",
    "\n",
    "The dataset is composed by sentences taken from the generics_kb dataset of hugging face. We restricted the vocabolary to the 10K most frequent words, and only took sentences making use of this vocabulary."
   ]
  },
  {
   "cell_type": "code",
   "execution_count": 1,
   "id": "67845d26",
   "metadata": {
    "execution": {
     "iopub.execute_input": "2024-06-11T18:31:20.861109Z",
     "iopub.status.busy": "2024-06-11T18:31:20.860829Z",
     "iopub.status.idle": "2024-06-11T18:31:34.203828Z",
     "shell.execute_reply": "2024-06-11T18:31:34.202887Z"
    },
    "papermill": {
     "duration": 13.365346,
     "end_time": "2024-06-11T18:31:34.206203",
     "exception": false,
     "start_time": "2024-06-11T18:31:20.840857",
     "status": "completed"
    },
    "tags": []
   },
   "outputs": [
    {
     "name": "stdout",
     "output_type": "stream",
     "text": [
      "Requirement already satisfied: datasets in /opt/conda/lib/python3.10/site-packages (2.19.2)\r\n",
      "Requirement already satisfied: filelock in /opt/conda/lib/python3.10/site-packages (from datasets) (3.13.1)\r\n",
      "Requirement already satisfied: numpy>=1.17 in /opt/conda/lib/python3.10/site-packages (from datasets) (1.26.4)\r\n",
      "Requirement already satisfied: pyarrow>=12.0.0 in /opt/conda/lib/python3.10/site-packages (from datasets) (14.0.2)\r\n",
      "Requirement already satisfied: pyarrow-hotfix in /opt/conda/lib/python3.10/site-packages (from datasets) (0.6)\r\n",
      "Requirement already satisfied: dill<0.3.9,>=0.3.0 in /opt/conda/lib/python3.10/site-packages (from datasets) (0.3.8)\r\n",
      "Requirement already satisfied: pandas in /opt/conda/lib/python3.10/site-packages (from datasets) (2.2.1)\r\n",
      "Requirement already satisfied: requests>=2.32.1 in /opt/conda/lib/python3.10/site-packages (from datasets) (2.32.3)\r\n",
      "Requirement already satisfied: tqdm>=4.62.1 in /opt/conda/lib/python3.10/site-packages (from datasets) (4.66.4)\r\n",
      "Requirement already satisfied: xxhash in /opt/conda/lib/python3.10/site-packages (from datasets) (3.4.1)\r\n",
      "Requirement already satisfied: multiprocess in /opt/conda/lib/python3.10/site-packages (from datasets) (0.70.16)\r\n",
      "Requirement already satisfied: fsspec<=2024.3.1,>=2023.1.0 in /opt/conda/lib/python3.10/site-packages (from fsspec[http]<=2024.3.1,>=2023.1.0->datasets) (2024.3.1)\r\n",
      "Requirement already satisfied: aiohttp in /opt/conda/lib/python3.10/site-packages (from datasets) (3.9.1)\r\n",
      "Requirement already satisfied: huggingface-hub>=0.21.2 in /opt/conda/lib/python3.10/site-packages (from datasets) (0.23.2)\r\n",
      "Requirement already satisfied: packaging in /opt/conda/lib/python3.10/site-packages (from datasets) (21.3)\r\n",
      "Requirement already satisfied: pyyaml>=5.1 in /opt/conda/lib/python3.10/site-packages (from datasets) (6.0.1)\r\n",
      "Requirement already satisfied: attrs>=17.3.0 in /opt/conda/lib/python3.10/site-packages (from aiohttp->datasets) (23.2.0)\r\n",
      "Requirement already satisfied: multidict<7.0,>=4.5 in /opt/conda/lib/python3.10/site-packages (from aiohttp->datasets) (6.0.4)\r\n",
      "Requirement already satisfied: yarl<2.0,>=1.0 in /opt/conda/lib/python3.10/site-packages (from aiohttp->datasets) (1.9.3)\r\n",
      "Requirement already satisfied: frozenlist>=1.1.1 in /opt/conda/lib/python3.10/site-packages (from aiohttp->datasets) (1.4.1)\r\n",
      "Requirement already satisfied: aiosignal>=1.1.2 in /opt/conda/lib/python3.10/site-packages (from aiohttp->datasets) (1.3.1)\r\n",
      "Requirement already satisfied: async-timeout<5.0,>=4.0 in /opt/conda/lib/python3.10/site-packages (from aiohttp->datasets) (4.0.3)\r\n",
      "Requirement already satisfied: typing-extensions>=3.7.4.3 in /opt/conda/lib/python3.10/site-packages (from huggingface-hub>=0.21.2->datasets) (4.9.0)\r\n",
      "Requirement already satisfied: pyparsing!=3.0.5,>=2.0.2 in /opt/conda/lib/python3.10/site-packages (from packaging->datasets) (3.1.1)\r\n",
      "Requirement already satisfied: charset-normalizer<4,>=2 in /opt/conda/lib/python3.10/site-packages (from requests>=2.32.1->datasets) (3.3.2)\r\n",
      "Requirement already satisfied: idna<4,>=2.5 in /opt/conda/lib/python3.10/site-packages (from requests>=2.32.1->datasets) (3.6)\r\n",
      "Requirement already satisfied: urllib3<3,>=1.21.1 in /opt/conda/lib/python3.10/site-packages (from requests>=2.32.1->datasets) (1.26.18)\r\n",
      "Requirement already satisfied: certifi>=2017.4.17 in /opt/conda/lib/python3.10/site-packages (from requests>=2.32.1->datasets) (2024.2.2)\r\n",
      "Requirement already satisfied: python-dateutil>=2.8.2 in /opt/conda/lib/python3.10/site-packages (from pandas->datasets) (2.9.0.post0)\r\n",
      "Requirement already satisfied: pytz>=2020.1 in /opt/conda/lib/python3.10/site-packages (from pandas->datasets) (2023.3.post1)\r\n",
      "Requirement already satisfied: tzdata>=2022.7 in /opt/conda/lib/python3.10/site-packages (from pandas->datasets) (2023.4)\r\n",
      "Requirement already satisfied: six>=1.5 in /opt/conda/lib/python3.10/site-packages (from python-dateutil>=2.8.2->pandas->datasets) (1.16.0)\r\n"
     ]
    }
   ],
   "source": [
    "!pip install datasets"
   ]
  },
  {
   "cell_type": "markdown",
   "id": "e0c2edad",
   "metadata": {
    "papermill": {
     "duration": 0.019711,
     "end_time": "2024-06-11T18:31:47.598172",
     "exception": false,
     "start_time": "2024-06-11T18:31:47.578461",
     "status": "completed"
    },
    "tags": []
   },
   "source": [
    "### Download and filter the dataset"
   ]
  },
  {
   "cell_type": "code",
   "execution_count": 3,
   "id": "412d4995",
   "metadata": {
    "execution": {
     "iopub.execute_input": "2024-06-11T18:31:47.639561Z",
     "iopub.status.busy": "2024-06-11T18:31:47.638991Z",
     "iopub.status.idle": "2024-06-11T18:34:25.495706Z",
     "shell.execute_reply": "2024-06-11T18:34:25.494769Z"
    },
    "papermill": {
     "duration": 157.879995,
     "end_time": "2024-06-11T18:34:25.498016",
     "exception": false,
     "start_time": "2024-06-11T18:31:47.618021",
     "status": "completed"
    },
    "tags": []
   },
   "outputs": [
    {
     "data": {
      "application/vnd.jupyter.widget-view+json": {
       "model_id": "3142b50f0f724f16a5ec27b719aa2e38",
       "version_major": 2,
       "version_minor": 0
      },
      "text/plain": [
       "Downloading builder script:   0%|          | 0.00/8.64k [00:00<?, ?B/s]"
      ]
     },
     "metadata": {},
     "output_type": "display_data"
    },
    {
     "data": {
      "application/vnd.jupyter.widget-view+json": {
       "model_id": "bb21a74c9ab041c6a983352eeeada3e3",
       "version_major": 2,
       "version_minor": 0
      },
      "text/plain": [
       "Downloading readme:   0%|          | 0.00/11.9k [00:00<?, ?B/s]"
      ]
     },
     "metadata": {},
     "output_type": "display_data"
    },
    {
     "data": {
      "application/vnd.jupyter.widget-view+json": {
       "model_id": "d17d94d3d86a41d5999228fc1b73841e",
       "version_major": 2,
       "version_minor": 0
      },
      "text/plain": [
       "Downloading data:   0%|          | 0.00/27.1M [00:00<?, ?B/s]"
      ]
     },
     "metadata": {},
     "output_type": "display_data"
    },
    {
     "data": {
      "application/vnd.jupyter.widget-view+json": {
       "model_id": "b7a7ee276cf4483c9d55778a59119c01",
       "version_major": 2,
       "version_minor": 0
      },
      "text/plain": [
       "Generating train split:   0%|          | 0/1020868 [00:00<?, ? examples/s]"
      ]
     },
     "metadata": {},
     "output_type": "display_data"
    },
    {
     "data": {
      "application/vnd.jupyter.widget-view+json": {
       "model_id": "671a30e316ee4e0599ac1014406748ef",
       "version_major": 2,
       "version_minor": 0
      },
      "text/plain": [
       "Filter:   0%|          | 0/1020868 [00:00<?, ? examples/s]"
      ]
     },
     "metadata": {},
     "output_type": "display_data"
    }
   ],
   "source": [
    "# Download the dataset\n",
    "ds = load_dataset('generics_kb',trust_remote_code=True)['train']\n",
    "\n",
    "# Filter row with length greater than 8.\n",
    "ds = ds.filter(lambda row: len(row[\"generic_sentence\"].split(\" \")) > 8)\n",
    "corpus = ['<start> ' + row['generic_sentence'].replace(\",\", \" <comma>\") + ' <end>' for row in ds]\n",
    "corpus = np.array(corpus)"
   ]
  },
  {
   "cell_type": "markdown",
   "id": "73dea311",
   "metadata": {
    "papermill": {
     "duration": 0.020524,
     "end_time": "2024-06-11T18:34:25.540143",
     "exception": false,
     "start_time": "2024-06-11T18:34:25.519619",
     "status": "completed"
    },
    "tags": []
   },
   "source": [
    "### Create a tokenizer and detokenizer"
   ]
  },
  {
   "cell_type": "code",
   "execution_count": 4,
   "id": "b3a39875",
   "metadata": {
    "execution": {
     "iopub.execute_input": "2024-06-11T18:34:25.583049Z",
     "iopub.status.busy": "2024-06-11T18:34:25.582738Z",
     "iopub.status.idle": "2024-06-11T18:34:33.367557Z",
     "shell.execute_reply": "2024-06-11T18:34:33.366562Z"
    },
    "papermill": {
     "duration": 7.808905,
     "end_time": "2024-06-11T18:34:33.369874",
     "exception": false,
     "start_time": "2024-06-11T18:34:25.560969",
     "status": "completed"
    },
    "tags": []
   },
   "outputs": [],
   "source": [
    "tokenizer=TextVectorization( max_tokens=10000, standardize=\"lower_and_strip_punctuation\", encoding=\"utf-8\",) #con il max prende le piu frequenti. ordina i token del vocab dal piu frequente al meno frequente\n",
    "tokenizer.adapt(corpus)\n",
    "\n",
    "class TextDetokenizer:\n",
    "    def __init__(self, vectorize_layer):\n",
    "        self.vectorize_layer = vectorize_layer\n",
    "        vocab = self.vectorize_layer.get_vocabulary()\n",
    "        self.index_to_word = {index: word for index, word in enumerate(vocab)}\n",
    "\n",
    "    def __detokenize_tokens(self, tokens):\n",
    "        def check_token(t):\n",
    "          if t == 3:\n",
    "            s=\"<start>\"\n",
    "          elif t == 2:\n",
    "            s=\"<end>\"\n",
    "          elif t == 7:\n",
    "            s=\"<comma>\"\n",
    "          else:\n",
    "            s=self.index_to_word.get(t, '[UNK]')\n",
    "          return s\n",
    "\n",
    "        return ' '.join([ check_token(token) for token in tokens if token != 0])\n",
    "\n",
    "    def __call__(self, batch_tokens):\n",
    "       return [self.__detokenize_tokens(tokens) for tokens in batch_tokens]\n",
    "\n",
    "\n",
    "detokenizer = TextDetokenizer( tokenizer )\n",
    "sentences = tokenizer( corpus ).numpy()"
   ]
  },
  {
   "cell_type": "code",
   "execution_count": 5,
   "id": "2d38fb4a",
   "metadata": {
    "execution": {
     "iopub.execute_input": "2024-06-11T18:34:33.413958Z",
     "iopub.status.busy": "2024-06-11T18:34:33.413619Z",
     "iopub.status.idle": "2024-06-11T18:34:33.474740Z",
     "shell.execute_reply": "2024-06-11T18:34:33.473817Z"
    },
    "papermill": {
     "duration": 0.08552,
     "end_time": "2024-06-11T18:34:33.476898",
     "exception": false,
     "start_time": "2024-06-11T18:34:33.391378",
     "status": "completed"
    },
    "tags": []
   },
   "outputs": [
    {
     "data": {
      "text/plain": [
       "(241236, 28)"
      ]
     },
     "execution_count": 5,
     "metadata": {},
     "output_type": "execute_result"
    }
   ],
   "source": [
    "# Remove from corpus the sentences where any unknow word appears\n",
    "mask = np.sum( (sentences==1), axis=1) >= 1\n",
    "original_data = np.delete( sentences, mask , axis=0)\n",
    "\n",
    "original_data.shape"
   ]
  },
  {
   "cell_type": "markdown",
   "id": "22ebd7fa",
   "metadata": {
    "papermill": {
     "duration": 0.020827,
     "end_time": "2024-06-11T18:34:33.519401",
     "exception": false,
     "start_time": "2024-06-11T18:34:33.498574",
     "status": "completed"
    },
    "tags": []
   },
   "source": [
    "### Data preprocessing"
   ]
  },
  {
   "cell_type": "code",
   "execution_count": 6,
   "id": "b771df0a",
   "metadata": {
    "execution": {
     "iopub.execute_input": "2024-06-11T18:34:33.562795Z",
     "iopub.status.busy": "2024-06-11T18:34:33.562419Z",
     "iopub.status.idle": "2024-06-11T18:34:33.571678Z",
     "shell.execute_reply": "2024-06-11T18:34:33.570916Z"
    },
    "id": "x2_yjABhOXeU",
    "papermill": {
     "duration": 0.033126,
     "end_time": "2024-06-11T18:34:33.573435",
     "exception": false,
     "start_time": "2024-06-11T18:34:33.540309",
     "status": "completed"
    },
    "tags": []
   },
   "outputs": [],
   "source": [
    "class DataGenerator(Sequence):\n",
    "    def __init__(self, data, batch_size=256, shuffle=True, seed=42):\n",
    "\n",
    "        self.data = data\n",
    "        self.batch_size = batch_size\n",
    "        self.shuffle = shuffle\n",
    "        self.seed = seed\n",
    "        self.on_epoch_end()\n",
    "\n",
    "    def __len__(self):\n",
    "        return int(np.floor(len(self.data) / self.batch_size))\n",
    "\n",
    "    def __getitem__(self, index):\n",
    "        indexes = self.indexes[index*self.batch_size:(index+1)*self.batch_size]\n",
    "\n",
    "        data_batch = np.array([self.data[k] for k in indexes])\n",
    "        #copy of ordered sequences\n",
    "        result = np.copy(data_batch)\n",
    "        #shuffle only the relevant positions for each batch\n",
    "        for i in range(data_batch.shape[0]):\n",
    "          np.random.shuffle(data_batch[i,1:data_batch[i].argmin() - 1])\n",
    "\n",
    "        return data_batch , result\n",
    "\n",
    "    def on_epoch_end(self):\n",
    "        self.indexes = np.arange(len(self.data))\n",
    "        if self.shuffle:\n",
    "            if self.seed is not None:\n",
    "              np.random.seed(self.seed)\n",
    "            np.random.shuffle(self.indexes)"
   ]
  },
  {
   "cell_type": "code",
   "execution_count": 7,
   "id": "1688279e",
   "metadata": {
    "execution": {
     "iopub.execute_input": "2024-06-11T18:34:33.616828Z",
     "iopub.status.busy": "2024-06-11T18:34:33.616181Z",
     "iopub.status.idle": "2024-06-11T18:34:33.657135Z",
     "shell.execute_reply": "2024-06-11T18:34:33.656087Z"
    },
    "papermill": {
     "duration": 0.065206,
     "end_time": "2024-06-11T18:34:33.659423",
     "exception": false,
     "start_time": "2024-06-11T18:34:33.594217",
     "status": "completed"
    },
    "tags": []
   },
   "outputs": [],
   "source": [
    "# Shuffle the all data\n",
    "shuffled_indices = np.random.permutation(len(original_data))\n",
    "original_data = original_data[shuffled_indices]\n"
   ]
  },
  {
   "cell_type": "code",
   "execution_count": 8,
   "id": "6870d309",
   "metadata": {
    "execution": {
     "iopub.execute_input": "2024-06-11T18:34:33.706628Z",
     "iopub.status.busy": "2024-06-11T18:34:33.706228Z",
     "iopub.status.idle": "2024-06-11T18:34:35.041834Z",
     "shell.execute_reply": "2024-06-11T18:34:35.041031Z"
    },
    "papermill": {
     "duration": 1.363071,
     "end_time": "2024-06-11T18:34:35.044027",
     "exception": false,
     "start_time": "2024-06-11T18:34:33.680956",
     "status": "completed"
    },
    "tags": []
   },
   "outputs": [],
   "source": [
    "# Create trainset\n",
    "train_generator = DataGenerator(original_data[:220000], 220000)\n",
    "x_train,labels = train_generator.__getitem__(0)"
   ]
  },
  {
   "cell_type": "markdown",
   "id": "243ad8aa",
   "metadata": {
    "papermill": {
     "duration": 0.023916,
     "end_time": "2024-06-11T18:34:35.089509",
     "exception": false,
     "start_time": "2024-06-11T18:34:35.065593",
     "status": "completed"
    },
    "tags": []
   },
   "source": [
    "## Metrics"
   ]
  },
  {
   "cell_type": "markdown",
   "id": "6a709312",
   "metadata": {
    "papermill": {
     "duration": 0.020909,
     "end_time": "2024-06-11T18:34:35.131674",
     "exception": false,
     "start_time": "2024-06-11T18:34:35.110765",
     "status": "completed"
    },
    "tags": []
   },
   "source": [
    "Let s be the source string and p your prediction. The quality of the results will be measured according to the following metric:\n",
    "\n",
    "1.  look for the longest substring w between s and p\n",
    "2.  compute |w|/max(|s|,|p|)\n",
    "\n",
    "If the match is exact, the score is 1.\n",
    "\n",
    "When computing the score, you should NOT consider the start and end tokens.\n",
    "\n"
   ]
  },
  {
   "cell_type": "code",
   "execution_count": 9,
   "id": "f544dcf4",
   "metadata": {
    "execution": {
     "iopub.execute_input": "2024-06-11T18:34:35.176340Z",
     "iopub.status.busy": "2024-06-11T18:34:35.175583Z",
     "iopub.status.idle": "2024-06-11T18:34:35.180614Z",
     "shell.execute_reply": "2024-06-11T18:34:35.179549Z"
    },
    "id": "ifxDjBeeOar0",
    "papermill": {
     "duration": 0.029662,
     "end_time": "2024-06-11T18:34:35.182494",
     "exception": false,
     "start_time": "2024-06-11T18:34:35.152832",
     "status": "completed"
    },
    "tags": []
   },
   "outputs": [],
   "source": [
    "def score(s,p):\n",
    "  match = SequenceMatcher(None, s, p).find_longest_match()\n",
    "  #print(match.size)\n",
    "  return (match.size/max(len(p),len(s)))"
   ]
  },
  {
   "cell_type": "markdown",
   "id": "a8cdc09c",
   "metadata": {
    "papermill": {
     "duration": 0.022773,
     "end_time": "2024-06-11T18:34:35.226177",
     "exception": false,
     "start_time": "2024-06-11T18:34:35.203404",
     "status": "completed"
    },
    "tags": []
   },
   "source": [
    "## Model architecture\n",
    "\n",
    "#### The implementation was inspired from the classic Transformer architecture. I've started from keras documentation and then I removed positional embedding on the Encoder block\n"
   ]
  },
  {
   "cell_type": "code",
   "execution_count": 10,
   "id": "802e64d7",
   "metadata": {
    "execution": {
     "iopub.execute_input": "2024-06-11T18:34:35.283813Z",
     "iopub.status.busy": "2024-06-11T18:34:35.282996Z",
     "iopub.status.idle": "2024-06-11T18:34:35.291883Z",
     "shell.execute_reply": "2024-06-11T18:34:35.290955Z"
    },
    "id": "W5hKVTtECuhs",
    "papermill": {
     "duration": 0.040293,
     "end_time": "2024-06-11T18:34:35.293841",
     "exception": false,
     "start_time": "2024-06-11T18:34:35.253548",
     "status": "completed"
    },
    "tags": []
   },
   "outputs": [],
   "source": [
    "dropout_rate = 0.2\n",
    "\n",
    "class TokenAndPositionEmbedding(layers.Layer):\n",
    "    def __init__(self, maxlen, vocab_size, embed_dim):\n",
    "        super().__init__()\n",
    "        # The embedding layer turns positive integers into dense vectors,\n",
    "        # (Words with similar meaning are close to each other)\n",
    "        self.token_emb = layers.Embedding(input_dim=vocab_size, output_dim=embed_dim)\n",
    "        self.pos_emb = layers.Embedding(input_dim=maxlen, output_dim=embed_dim)\n",
    "\n",
    "    def call(self, x):\n",
    "        # get the number of tokens\n",
    "        maxlen = tf.shape(x)[-1]\n",
    "        # get all positions in order\n",
    "        positions = tf.range(start=0, limit=maxlen, delta=1)\n",
    "        # then get the embedded positions\n",
    "        positions = self.pos_emb(positions)\n",
    "        # compute the token embeddings\n",
    "        x = self.token_emb(x)\n",
    "        # finally return the embedded tokens + the positions\n",
    "        return x + positions\n",
    "\n",
    "class TokenEmbedding(layers.Layer):\n",
    "    def __init__(self, vocab_size, embed_dim):\n",
    "        super().__init__()\n",
    "        # The embedding layer turns positive integers into dense vectors,\n",
    "        # (Words with similar meaning are close to each other)\n",
    "        self.token_emb = layers.Embedding(input_dim=vocab_size, output_dim=embed_dim)\n",
    "\n",
    "    def call(self, x):\n",
    "        # compute the token embeddings\n",
    "        x = self.token_emb(x)\n",
    "        # finally return the embedded tokens + the positions\n",
    "        return x  "
   ]
  },
  {
   "cell_type": "code",
   "execution_count": 11,
   "id": "0dd63ae0",
   "metadata": {
    "execution": {
     "iopub.execute_input": "2024-06-11T18:34:35.384800Z",
     "iopub.status.busy": "2024-06-11T18:34:35.384075Z",
     "iopub.status.idle": "2024-06-11T18:34:35.396141Z",
     "shell.execute_reply": "2024-06-11T18:34:35.395282Z"
    },
    "papermill": {
     "duration": 0.082138,
     "end_time": "2024-06-11T18:34:35.398194",
     "exception": false,
     "start_time": "2024-06-11T18:34:35.316056",
     "status": "completed"
    },
    "tags": []
   },
   "outputs": [],
   "source": [
    "class TransformerEncoderBlock(layers.Layer):\n",
    "    def __init__(self, embed_dim, num_heads, ff_dim, rate = dropout_rate):\n",
    "        super().__init__()\n",
    "        self.att = layers.MultiHeadAttention(num_heads=num_heads, key_dim=embed_dim)\n",
    "        self.ffn = tf.keras.Sequential(\n",
    "            [layers.Dense(ff_dim, activation=\"relu\"), layers.Dense(embed_dim),]\n",
    "        )\n",
    "        self.layernorm1 = layers.LayerNormalization(epsilon=1e-6)\n",
    "        self.layernorm2 = layers.LayerNormalization(epsilon=1e-6)\n",
    "        self.dropout1 = layers.Dropout(rate)\n",
    "        self.dropout2 = layers.Dropout(rate)\n",
    "\n",
    "    def call(self, inputs, training=True):\n",
    "        attn_output = self.att(inputs, inputs, inputs) # Multi head attention where Key, Value and Query are all the same\n",
    "        attn_output = self.dropout1(attn_output, training=training) # We add a dropout to reduce overfitting\n",
    "        out1 = self.layernorm1(inputs + attn_output) # We add a residual connection and layernorm the result\n",
    "        ffn_output = self.ffn(out1) # Feedforward network\n",
    "        ffn_output = self.dropout2(ffn_output, training=training) # a second dropout\n",
    "        return self.layernorm2(out1 + ffn_output) # a second residual connection\n",
    "\n",
    "class TransformerEncoder(layers.Layer):\n",
    "    def __init__(self, num_layers, embed_dim, num_heads, ff_dim, input_vocab_size, maximum_position_encoding, rate = dropout_rate):\n",
    "        super().__init__()\n",
    "        self.num_layers = num_layers\n",
    "        self.embed_dim = embed_dim\n",
    "        self.token_emb = TokenEmbedding(vocab_size=input_vocab_size, embed_dim=embed_dim)\n",
    "        self.enc_layers = [TransformerEncoderBlock(embed_dim, num_heads, ff_dim, rate) for _ in range(num_layers)]\n",
    "        self.dropout = layers.Dropout(rate)\n",
    "\n",
    "    def call(self, inputs, training=True):\n",
    "        x = self.token_emb(inputs)\n",
    "        for i in range(self.num_layers):\n",
    "            x = self.enc_layers[i](x, training=training)\n",
    "        return self.dropout(x, training=training)"
   ]
  },
  {
   "cell_type": "code",
   "execution_count": 12,
   "id": "b61023d8",
   "metadata": {
    "execution": {
     "iopub.execute_input": "2024-06-11T18:34:35.445375Z",
     "iopub.status.busy": "2024-06-11T18:34:35.445002Z",
     "iopub.status.idle": "2024-06-11T18:34:35.459577Z",
     "shell.execute_reply": "2024-06-11T18:34:35.458641Z"
    },
    "papermill": {
     "duration": 0.040888,
     "end_time": "2024-06-11T18:34:35.461565",
     "exception": false,
     "start_time": "2024-06-11T18:34:35.420677",
     "status": "completed"
    },
    "tags": []
   },
   "outputs": [],
   "source": [
    "class TransformerDecoderBlock(layers.Layer):\n",
    "    def __init__(self, embed_dim, num_heads, ff_dim, rate = dropout_rate):\n",
    "        super().__init__()\n",
    "        self.att1 = layers.MultiHeadAttention(num_heads=num_heads, key_dim=embed_dim)\n",
    "        self.att2 = layers.MultiHeadAttention(num_heads=num_heads, key_dim=embed_dim)\n",
    "        self.ffn = tf.keras.Sequential(\n",
    "            [layers.Dense(ff_dim, activation=\"relu\"), layers.Dense(embed_dim),]\n",
    "        )\n",
    "        self.layernorm1 = layers.LayerNormalization(epsilon=1e-6)\n",
    "        self.layernorm2 = layers.LayerNormalization(epsilon=1e-6)\n",
    "        self.layernorm3 = layers.LayerNormalization(epsilon=1e-6)\n",
    "        self.dropout1 = layers.Dropout(rate)\n",
    "        self.dropout2 = layers.Dropout(rate)\n",
    "\n",
    "    def call(self, inputs, enc_output, training=True):\n",
    "        attn_output = self.att2(inputs, inputs, inputs, use_causal_mask=True) # Multi head attention where Key, Value and Query are all the same\n",
    "        attn_output = self.dropout1(attn_output, training=training) # We add a dropout to reduce overfitting\n",
    "        out1 = self.layernorm1(inputs + attn_output) # We add a residual connection and layernorm the result\n",
    "        attn_output_2 = self.att1(out1,enc_output, enc_output)\n",
    "        out2= self.layernorm2(attn_output_2 + out1)\n",
    "        ffn_output = self.ffn(out2) # Feedforward network\n",
    "        ffn_output = self.dropout2(ffn_output, training=training) # a second dropout\n",
    "        return self.layernorm3(out2 + ffn_output) # a second residual connection\n",
    "\n",
    "class TransformerDecoder(layers.Layer):\n",
    "    def __init__(self, num_layers, embed_dim, num_heads, ff_dim, target_vocab_size, maximum_position_encoding, rate = dropout_rate):\n",
    "        super().__init__()\n",
    "        self.num_layers = num_layers\n",
    "        self.embed_dim = embed_dim\n",
    "        self.token_emb = TokenAndPositionEmbedding(maxlen=maximum_position_encoding, vocab_size=target_vocab_size, embed_dim=embed_dim)\n",
    "        self.dec_layers = [TransformerDecoderBlock(embed_dim, num_heads, ff_dim, rate) for _ in range(num_layers)]\n",
    "        self.dropout = layers.Dropout(rate)\n",
    "\n",
    "    def call(self, inputs, enc_output, training=True):\n",
    "        attention_weights = {}\n",
    "        x = self.token_emb(inputs)\n",
    "        for i in range(self.num_layers):\n",
    "            x = self.dec_layers[i](x, enc_output, training=training)\n",
    "        return self.dropout(x, training=training)"
   ]
  },
  {
   "cell_type": "code",
   "execution_count": 13,
   "id": "79a822f7",
   "metadata": {
    "execution": {
     "iopub.execute_input": "2024-06-11T18:34:35.509316Z",
     "iopub.status.busy": "2024-06-11T18:34:35.508656Z",
     "iopub.status.idle": "2024-06-11T18:34:35.516020Z",
     "shell.execute_reply": "2024-06-11T18:34:35.515219Z"
    },
    "papermill": {
     "duration": 0.033279,
     "end_time": "2024-06-11T18:34:35.517868",
     "exception": false,
     "start_time": "2024-06-11T18:34:35.484589",
     "status": "completed"
    },
    "tags": []
   },
   "outputs": [],
   "source": [
    "class Transformer(keras.Model):\n",
    "    def __init__(self, num_layers, embed_dim, num_heads, ff_dim, input_vocab_size, target_vocab_size, pe_input, pe_target, rate = dropout_rate):\n",
    "        super().__init__()\n",
    "        self.encoder = TransformerEncoder(num_layers, embed_dim, num_heads, ff_dim, input_vocab_size, pe_input, rate)\n",
    "        self.decoder = TransformerDecoder(num_layers, embed_dim, num_heads, ff_dim, target_vocab_size, pe_target, rate)\n",
    "        self.final_layer = layers.Dense(target_vocab_size)\n",
    "\n",
    "    def call(self, inputs,training=True):\n",
    "        x,y=inputs\n",
    "        enc_output = self.encoder(x, training=training)\n",
    "        dec_output = self.decoder(y, enc_output, training=training)\n",
    "        final_output = self.final_layer(dec_output)\n",
    "        return final_output"
   ]
  },
  {
   "cell_type": "markdown",
   "id": "7f25f46b",
   "metadata": {
    "papermill": {
     "duration": 0.02387,
     "end_time": "2024-06-11T18:34:35.565282",
     "exception": false,
     "start_time": "2024-06-11T18:34:35.541412",
     "status": "completed"
    },
    "tags": []
   },
   "source": [
    "### Setting the model's parameters and creating the model"
   ]
  },
  {
   "cell_type": "code",
   "execution_count": 14,
   "id": "3a6ba6c4",
   "metadata": {
    "execution": {
     "iopub.execute_input": "2024-06-11T18:34:35.615469Z",
     "iopub.status.busy": "2024-06-11T18:34:35.614702Z",
     "iopub.status.idle": "2024-06-11T18:34:35.620286Z",
     "shell.execute_reply": "2024-06-11T18:34:35.619332Z"
    },
    "papermill": {
     "duration": 0.032973,
     "end_time": "2024-06-11T18:34:35.622366",
     "exception": false,
     "start_time": "2024-06-11T18:34:35.589393",
     "status": "completed"
    },
    "tags": []
   },
   "outputs": [],
   "source": [
    "# Number of transformer layers in the model\n",
    "num_layers = 4\n",
    "\n",
    "# Dimensions of the embedding \n",
    "embed_dim = 200\n",
    "\n",
    "# Number of attention heads in the multi-head attention mechanism\n",
    "num_heads = 3\n",
    "\n",
    "# Dimensionality of the feed-forward layers\n",
    "ff_dim = 64\n",
    "\n",
    "# Size of the vocabulary for the input  and target sequence\n",
    "input_vocab_size = 10000\n",
    "target_vocab_size = 10000\n",
    "\n",
    "# Maximum positional encoding value for the input and target sequence\n",
    "pe_input = 28\n",
    "pe_target = 28"
   ]
  },
  {
   "cell_type": "code",
   "execution_count": 15,
   "id": "21d874a1",
   "metadata": {
    "execution": {
     "iopub.execute_input": "2024-06-11T18:34:35.716789Z",
     "iopub.status.busy": "2024-06-11T18:34:35.716074Z",
     "iopub.status.idle": "2024-06-11T18:34:35.836294Z",
     "shell.execute_reply": "2024-06-11T18:34:35.835487Z"
    },
    "papermill": {
     "duration": 0.145992,
     "end_time": "2024-06-11T18:34:35.838583",
     "exception": false,
     "start_time": "2024-06-11T18:34:35.692591",
     "status": "completed"
    },
    "tags": []
   },
   "outputs": [],
   "source": [
    "# Instantiate the Transformer model \n",
    "transformer = Transformer(num_layers, embed_dim, num_heads, ff_dim, input_vocab_size, target_vocab_size, pe_input, pe_target)"
   ]
  },
  {
   "cell_type": "markdown",
   "id": "80ab4db9",
   "metadata": {
    "papermill": {
     "duration": 0.021252,
     "end_time": "2024-06-11T18:34:35.881562",
     "exception": false,
     "start_time": "2024-06-11T18:34:35.860310",
     "status": "completed"
    },
    "tags": []
   },
   "source": [
    "### Custom utilities \n",
    "- Custom masked loss function\n",
    "- Custom masked accuracy function \n",
    "- Custom Scheduler "
   ]
  },
  {
   "cell_type": "code",
   "execution_count": 16,
   "id": "d8524ffe",
   "metadata": {
    "execution": {
     "iopub.execute_input": "2024-06-11T18:34:35.926561Z",
     "iopub.status.busy": "2024-06-11T18:34:35.925862Z",
     "iopub.status.idle": "2024-06-11T18:34:35.932918Z",
     "shell.execute_reply": "2024-06-11T18:34:35.932087Z"
    },
    "papermill": {
     "duration": 0.031699,
     "end_time": "2024-06-11T18:34:35.934755",
     "exception": false,
     "start_time": "2024-06-11T18:34:35.903056",
     "status": "completed"
    },
    "tags": []
   },
   "outputs": [],
   "source": [
    "K_VALUE = 1.00\n",
    "max_sequence_len = 28\n",
    "\n",
    "#Definition of a custom masked accuracy that works directly on tokens\n",
    "def custom_masked_loss(label, pred):\n",
    "    mask = label != 0\n",
    "    loss_object = tf.keras.losses.SparseCategoricalCrossentropy(from_logits=True, reduction='none')\n",
    "    loss = loss_object(label, pred)\n",
    "\n",
    "    a = tf.cast(tf.range(1, max_sequence_len + 1), tf.float32)\n",
    "    constant_val = tf.constant(K_VALUE)\n",
    "    final_array = tf.pow(constant_val, a)\n",
    "\n",
    "    mask = tf.cast(mask, dtype=loss.dtype)\n",
    "    mask *= final_array\n",
    "\n",
    "    loss *= mask\n",
    "\n",
    "    loss = tf.reduce_sum(loss) / tf.reduce_sum(mask)\n",
    "    return loss"
   ]
  },
  {
   "cell_type": "code",
   "execution_count": 17,
   "id": "5d0d8b9b",
   "metadata": {
    "execution": {
     "iopub.execute_input": "2024-06-11T18:34:35.979294Z",
     "iopub.status.busy": "2024-06-11T18:34:35.978562Z",
     "iopub.status.idle": "2024-06-11T18:34:35.984406Z",
     "shell.execute_reply": "2024-06-11T18:34:35.983574Z"
    },
    "papermill": {
     "duration": 0.030081,
     "end_time": "2024-06-11T18:34:35.986262",
     "exception": false,
     "start_time": "2024-06-11T18:34:35.956181",
     "status": "completed"
    },
    "tags": []
   },
   "outputs": [],
   "source": [
    "# Defining a custom metric that works directly on tokens\n",
    "def masked_accuracy(label, pred):\n",
    "    pred = tf.argmax(pred, axis=2)\n",
    "    label = tf.cast(label, pred.dtype)\n",
    "    match = label == pred\n",
    "\n",
    "    mask = label != 0\n",
    "\n",
    "    match = match & mask\n",
    "\n",
    "    match = tf.cast(match, dtype=tf.float32)\n",
    "    mask = tf.cast(mask, dtype=tf.float32)\n",
    "    return tf.reduce_sum(match) / tf.reduce_sum(mask)"
   ]
  },
  {
   "cell_type": "code",
   "execution_count": 18,
   "id": "b12a552c",
   "metadata": {
    "execution": {
     "iopub.execute_input": "2024-06-11T18:34:36.030580Z",
     "iopub.status.busy": "2024-06-11T18:34:36.029964Z",
     "iopub.status.idle": "2024-06-11T18:34:36.036545Z",
     "shell.execute_reply": "2024-06-11T18:34:36.035717Z"
    },
    "papermill": {
     "duration": 0.030725,
     "end_time": "2024-06-11T18:34:36.038442",
     "exception": false,
     "start_time": "2024-06-11T18:34:36.007717",
     "status": "completed"
    },
    "tags": []
   },
   "outputs": [],
   "source": [
    "# Definition of a custom scheduler \n",
    "class CustomScheduler(tf.keras.optimizers.schedules.LearningRateSchedule):\n",
    "  def __init__(self, d_model, warmup_steps=4000):\n",
    "    super().__init__()\n",
    "\n",
    "    self.d_model = d_model\n",
    "    self.d_model = tf.cast(self.d_model, tf.float32)\n",
    "\n",
    "    self.warmup_steps = warmup_steps\n",
    "\n",
    "  def __call__(self, step):\n",
    "    step = tf.cast(step, dtype=tf.float32)\n",
    "    arg1 = tf.math.rsqrt(step)\n",
    "    arg2 = step * (self.warmup_steps ** -1.5)\n",
    "\n",
    "    return tf.math.rsqrt(self.d_model) * tf.math.minimum(arg1, arg2)"
   ]
  },
  {
   "cell_type": "markdown",
   "id": "1d58713c",
   "metadata": {
    "papermill": {
     "duration": 0.021325,
     "end_time": "2024-06-11T18:34:36.081109",
     "exception": false,
     "start_time": "2024-06-11T18:34:36.059784",
     "status": "completed"
    },
    "tags": []
   },
   "source": [
    "### Compile the model \n",
    "\n",
    "* Adam optimizer\n",
    "* Batch size 256\n",
    "* Early stopping on accuracy\n"
   ]
  },
  {
   "cell_type": "code",
   "execution_count": 19,
   "id": "bd716dc0",
   "metadata": {
    "execution": {
     "iopub.execute_input": "2024-06-11T18:34:36.126319Z",
     "iopub.status.busy": "2024-06-11T18:34:36.125493Z",
     "iopub.status.idle": "2024-06-11T18:34:36.135338Z",
     "shell.execute_reply": "2024-06-11T18:34:36.134613Z"
    },
    "papermill": {
     "duration": 0.034463,
     "end_time": "2024-06-11T18:34:36.137295",
     "exception": false,
     "start_time": "2024-06-11T18:34:36.102832",
     "status": "completed"
    },
    "tags": []
   },
   "outputs": [],
   "source": [
    "# Initialize the Adam optimizer with the custom learning rate scheduler\n",
    "learning_rate = CustomScheduler(embed_dim)\n",
    "opt = keras.optimizers.Adam(learning_rate, beta_1=0.9, beta_2=0.98, epsilon=1e-9)"
   ]
  },
  {
   "cell_type": "code",
   "execution_count": 20,
   "id": "0b9af1db",
   "metadata": {
    "execution": {
     "iopub.execute_input": "2024-06-11T18:34:36.182481Z",
     "iopub.status.busy": "2024-06-11T18:34:36.181801Z",
     "iopub.status.idle": "2024-06-11T19:39:03.165401Z",
     "shell.execute_reply": "2024-06-11T19:39:03.164314Z"
    },
    "id": "l2giOSXgO2dh",
    "outputId": "79199810-f897-4575-ae7a-7bed9e287b03",
    "papermill": {
     "duration": 3867.008872,
     "end_time": "2024-06-11T19:39:03.167968",
     "exception": false,
     "start_time": "2024-06-11T18:34:36.159096",
     "status": "completed"
    },
    "tags": []
   },
   "outputs": [
    {
     "data": {
      "text/html": [
       "<pre style=\"white-space:pre;overflow-x:auto;line-height:normal;font-family:Menlo,'DejaVu Sans Mono',consolas,'Courier New',monospace\"><span style=\"font-weight: bold\">Model: \"transformer\"</span>\n",
       "</pre>\n"
      ],
      "text/plain": [
       "\u001b[1mModel: \"transformer\"\u001b[0m\n"
      ]
     },
     "metadata": {},
     "output_type": "display_data"
    },
    {
     "data": {
      "text/html": [
       "<pre style=\"white-space:pre;overflow-x:auto;line-height:normal;font-family:Menlo,'DejaVu Sans Mono',consolas,'Courier New',monospace\">┏━━━━━━━━━━━━━━━━━━━━━━━━━━━━━━━━━┳━━━━━━━━━━━━━━━━━━━━━━━━┳━━━━━━━━━━━━━━━┓\n",
       "┃<span style=\"font-weight: bold\"> Layer (type)                    </span>┃<span style=\"font-weight: bold\"> Output Shape           </span>┃<span style=\"font-weight: bold\">       Param # </span>┃\n",
       "┡━━━━━━━━━━━━━━━━━━━━━━━━━━━━━━━━━╇━━━━━━━━━━━━━━━━━━━━━━━━╇━━━━━━━━━━━━━━━┩\n",
       "│ transformer_encoder             │ ?                      │     <span style=\"color: #00af00; text-decoration-color: #00af00\">4,034,656</span> │\n",
       "│ (<span style=\"color: #0087ff; text-decoration-color: #0087ff\">TransformerEncoder</span>)            │                        │               │\n",
       "├─────────────────────────────────┼────────────────────────┼───────────────┤\n",
       "│ transformer_decoder             │ ?                      │     <span style=\"color: #00af00; text-decoration-color: #00af00\">5,969,856</span> │\n",
       "│ (<span style=\"color: #0087ff; text-decoration-color: #0087ff\">TransformerDecoder</span>)            │                        │               │\n",
       "├─────────────────────────────────┼────────────────────────┼───────────────┤\n",
       "│ dense_16 (<span style=\"color: #0087ff; text-decoration-color: #0087ff\">Dense</span>)                │ ?                      │     <span style=\"color: #00af00; text-decoration-color: #00af00\">2,010,000</span> │\n",
       "└─────────────────────────────────┴────────────────────────┴───────────────┘\n",
       "</pre>\n"
      ],
      "text/plain": [
       "┏━━━━━━━━━━━━━━━━━━━━━━━━━━━━━━━━━┳━━━━━━━━━━━━━━━━━━━━━━━━┳━━━━━━━━━━━━━━━┓\n",
       "┃\u001b[1m \u001b[0m\u001b[1mLayer (type)                   \u001b[0m\u001b[1m \u001b[0m┃\u001b[1m \u001b[0m\u001b[1mOutput Shape          \u001b[0m\u001b[1m \u001b[0m┃\u001b[1m \u001b[0m\u001b[1m      Param #\u001b[0m\u001b[1m \u001b[0m┃\n",
       "┡━━━━━━━━━━━━━━━━━━━━━━━━━━━━━━━━━╇━━━━━━━━━━━━━━━━━━━━━━━━╇━━━━━━━━━━━━━━━┩\n",
       "│ transformer_encoder             │ ?                      │     \u001b[38;5;34m4,034,656\u001b[0m │\n",
       "│ (\u001b[38;5;33mTransformerEncoder\u001b[0m)            │                        │               │\n",
       "├─────────────────────────────────┼────────────────────────┼───────────────┤\n",
       "│ transformer_decoder             │ ?                      │     \u001b[38;5;34m5,969,856\u001b[0m │\n",
       "│ (\u001b[38;5;33mTransformerDecoder\u001b[0m)            │                        │               │\n",
       "├─────────────────────────────────┼────────────────────────┼───────────────┤\n",
       "│ dense_16 (\u001b[38;5;33mDense\u001b[0m)                │ ?                      │     \u001b[38;5;34m2,010,000\u001b[0m │\n",
       "└─────────────────────────────────┴────────────────────────┴───────────────┘\n"
      ]
     },
     "metadata": {},
     "output_type": "display_data"
    },
    {
     "data": {
      "text/html": [
       "<pre style=\"white-space:pre;overflow-x:auto;line-height:normal;font-family:Menlo,'DejaVu Sans Mono',consolas,'Courier New',monospace\"><span style=\"font-weight: bold\"> Total params: </span><span style=\"color: #00af00; text-decoration-color: #00af00\">12,014,512</span> (45.83 MB)\n",
       "</pre>\n"
      ],
      "text/plain": [
       "\u001b[1m Total params: \u001b[0m\u001b[38;5;34m12,014,512\u001b[0m (45.83 MB)\n"
      ]
     },
     "metadata": {},
     "output_type": "display_data"
    },
    {
     "data": {
      "text/html": [
       "<pre style=\"white-space:pre;overflow-x:auto;line-height:normal;font-family:Menlo,'DejaVu Sans Mono',consolas,'Courier New',monospace\"><span style=\"font-weight: bold\"> Trainable params: </span><span style=\"color: #00af00; text-decoration-color: #00af00\">12,014,512</span> (45.83 MB)\n",
       "</pre>\n"
      ],
      "text/plain": [
       "\u001b[1m Trainable params: \u001b[0m\u001b[38;5;34m12,014,512\u001b[0m (45.83 MB)\n"
      ]
     },
     "metadata": {},
     "output_type": "display_data"
    },
    {
     "data": {
      "text/html": [
       "<pre style=\"white-space:pre;overflow-x:auto;line-height:normal;font-family:Menlo,'DejaVu Sans Mono',consolas,'Courier New',monospace\"><span style=\"font-weight: bold\"> Non-trainable params: </span><span style=\"color: #00af00; text-decoration-color: #00af00\">0</span> (0.00 B)\n",
       "</pre>\n"
      ],
      "text/plain": [
       "\u001b[1m Non-trainable params: \u001b[0m\u001b[38;5;34m0\u001b[0m (0.00 B)\n"
      ]
     },
     "metadata": {},
     "output_type": "display_data"
    },
    {
     "name": "stdout",
     "output_type": "stream",
     "text": [
      "Epoch 1/50\n",
      "\u001b[1m  1/817\u001b[0m \u001b[37m━━━━━━━━━━━━━━━━━━━━\u001b[0m \u001b[1m15:36:32\u001b[0m 69s/step - loss: 9.2360 - masked_accuracy: 5.8326e-04"
     ]
    },
    {
     "name": "stderr",
     "output_type": "stream",
     "text": [
      "WARNING: All log messages before absl::InitializeLog() is called are written to STDERR\n",
      "I0000 00:00:1718130952.295292      73 device_compiler.h:186] Compiled cluster using XLA!  This line is logged at most once for the lifetime of the process.\n"
     ]
    },
    {
     "name": "stdout",
     "output_type": "stream",
     "text": [
      "\u001b[1m817/817\u001b[0m \u001b[32m━━━━━━━━━━━━━━━━━━━━\u001b[0m\u001b[37m\u001b[0m \u001b[1m206s\u001b[0m 168ms/step - loss: 7.9287 - masked_accuracy: 0.0974 - val_loss: 4.7158 - val_masked_accuracy: 0.3768\n",
      "Epoch 2/50\n",
      "\u001b[1m817/817\u001b[0m \u001b[32m━━━━━━━━━━━━━━━━━━━━\u001b[0m\u001b[37m\u001b[0m \u001b[1m87s\u001b[0m 106ms/step - loss: 4.2387 - masked_accuracy: 0.4240 - val_loss: 2.5961 - val_masked_accuracy: 0.5959\n",
      "Epoch 3/50\n",
      "\u001b[1m817/817\u001b[0m \u001b[32m━━━━━━━━━━━━━━━━━━━━\u001b[0m\u001b[37m\u001b[0m \u001b[1m86s\u001b[0m 106ms/step - loss: 2.4364 - masked_accuracy: 0.6020 - val_loss: 1.5531 - val_masked_accuracy: 0.6940\n",
      "Epoch 4/50\n",
      "\u001b[1m817/817\u001b[0m \u001b[32m━━━━━━━━━━━━━━━━━━━━\u001b[0m\u001b[37m\u001b[0m \u001b[1m86s\u001b[0m 106ms/step - loss: 1.5813 - masked_accuracy: 0.6844 - val_loss: 1.2047 - val_masked_accuracy: 0.7351\n",
      "Epoch 5/50\n",
      "\u001b[1m817/817\u001b[0m \u001b[32m━━━━━━━━━━━━━━━━━━━━\u001b[0m\u001b[37m\u001b[0m \u001b[1m86s\u001b[0m 106ms/step - loss: 1.2612 - masked_accuracy: 0.7213 - val_loss: 1.0686 - val_masked_accuracy: 0.7527\n",
      "Epoch 6/50\n",
      "\u001b[1m817/817\u001b[0m \u001b[32m━━━━━━━━━━━━━━━━━━━━\u001b[0m\u001b[37m\u001b[0m \u001b[1m86s\u001b[0m 106ms/step - loss: 1.0972 - masked_accuracy: 0.7459 - val_loss: 0.9497 - val_masked_accuracy: 0.7786\n",
      "Epoch 7/50\n",
      "\u001b[1m817/817\u001b[0m \u001b[32m━━━━━━━━━━━━━━━━━━━━\u001b[0m\u001b[37m\u001b[0m \u001b[1m86s\u001b[0m 106ms/step - loss: 0.9268 - masked_accuracy: 0.7756 - val_loss: 0.8997 - val_masked_accuracy: 0.7862\n",
      "Epoch 8/50\n",
      "\u001b[1m817/817\u001b[0m \u001b[32m━━━━━━━━━━━━━━━━━━━━\u001b[0m\u001b[37m\u001b[0m \u001b[1m86s\u001b[0m 106ms/step - loss: 0.8102 - masked_accuracy: 0.7967 - val_loss: 0.8579 - val_masked_accuracy: 0.7983\n",
      "Epoch 9/50\n",
      "\u001b[1m817/817\u001b[0m \u001b[32m━━━━━━━━━━━━━━━━━━━━\u001b[0m\u001b[37m\u001b[0m \u001b[1m86s\u001b[0m 106ms/step - loss: 0.7201 - masked_accuracy: 0.8146 - val_loss: 0.8143 - val_masked_accuracy: 0.8054\n",
      "Epoch 10/50\n",
      "\u001b[1m817/817\u001b[0m \u001b[32m━━━━━━━━━━━━━━━━━━━━\u001b[0m\u001b[37m\u001b[0m \u001b[1m87s\u001b[0m 106ms/step - loss: 0.6497 - masked_accuracy: 0.8290 - val_loss: 0.8171 - val_masked_accuracy: 0.8107\n",
      "Epoch 11/50\n",
      "\u001b[1m817/817\u001b[0m \u001b[32m━━━━━━━━━━━━━━━━━━━━\u001b[0m\u001b[37m\u001b[0m \u001b[1m86s\u001b[0m 106ms/step - loss: 0.5920 - masked_accuracy: 0.8411 - val_loss: 0.8092 - val_masked_accuracy: 0.8130\n",
      "Epoch 12/50\n",
      "\u001b[1m817/817\u001b[0m \u001b[32m━━━━━━━━━━━━━━━━━━━━\u001b[0m\u001b[37m\u001b[0m \u001b[1m86s\u001b[0m 106ms/step - loss: 0.5425 - masked_accuracy: 0.8525 - val_loss: 0.8090 - val_masked_accuracy: 0.8168\n",
      "Epoch 13/50\n",
      "\u001b[1m817/817\u001b[0m \u001b[32m━━━━━━━━━━━━━━━━━━━━\u001b[0m\u001b[37m\u001b[0m \u001b[1m86s\u001b[0m 106ms/step - loss: 0.5018 - masked_accuracy: 0.8615 - val_loss: 0.8129 - val_masked_accuracy: 0.8209\n",
      "Epoch 14/50\n",
      "\u001b[1m817/817\u001b[0m \u001b[32m━━━━━━━━━━━━━━━━━━━━\u001b[0m\u001b[37m\u001b[0m \u001b[1m86s\u001b[0m 106ms/step - loss: 0.4658 - masked_accuracy: 0.8701 - val_loss: 0.8114 - val_masked_accuracy: 0.8229\n",
      "Epoch 15/50\n",
      "\u001b[1m817/817\u001b[0m \u001b[32m━━━━━━━━━━━━━━━━━━━━\u001b[0m\u001b[37m\u001b[0m \u001b[1m86s\u001b[0m 106ms/step - loss: 0.4328 - masked_accuracy: 0.8782 - val_loss: 0.8168 - val_masked_accuracy: 0.8251\n",
      "Epoch 16/50\n",
      "\u001b[1m817/817\u001b[0m \u001b[32m━━━━━━━━━━━━━━━━━━━━\u001b[0m\u001b[37m\u001b[0m \u001b[1m86s\u001b[0m 106ms/step - loss: 0.4049 - masked_accuracy: 0.8851 - val_loss: 0.8448 - val_masked_accuracy: 0.8252\n",
      "Epoch 17/50\n",
      "\u001b[1m817/817\u001b[0m \u001b[32m━━━━━━━━━━━━━━━━━━━━\u001b[0m\u001b[37m\u001b[0m \u001b[1m86s\u001b[0m 106ms/step - loss: 0.3815 - masked_accuracy: 0.8907 - val_loss: 0.8617 - val_masked_accuracy: 0.8242\n",
      "Epoch 18/50\n",
      "\u001b[1m817/817\u001b[0m \u001b[32m━━━━━━━━━━━━━━━━━━━━\u001b[0m\u001b[37m\u001b[0m \u001b[1m142s\u001b[0m 106ms/step - loss: 0.3596 - masked_accuracy: 0.8966 - val_loss: 0.8636 - val_masked_accuracy: 0.8262\n",
      "Epoch 19/50\n",
      "\u001b[1m817/817\u001b[0m \u001b[32m━━━━━━━━━━━━━━━━━━━━\u001b[0m\u001b[37m\u001b[0m \u001b[1m140s\u001b[0m 104ms/step - loss: 0.3407 - masked_accuracy: 0.9015 - val_loss: 0.8898 - val_masked_accuracy: 0.8267\n",
      "Epoch 20/50\n",
      "\u001b[1m817/817\u001b[0m \u001b[32m━━━━━━━━━━━━━━━━━━━━\u001b[0m\u001b[37m\u001b[0m \u001b[1m84s\u001b[0m 102ms/step - loss: 0.3231 - masked_accuracy: 0.9058 - val_loss: 0.8961 - val_masked_accuracy: 0.8249\n",
      "Epoch 21/50\n",
      "\u001b[1m817/817\u001b[0m \u001b[32m━━━━━━━━━━━━━━━━━━━━\u001b[0m\u001b[37m\u001b[0m \u001b[1m84s\u001b[0m 102ms/step - loss: 0.3072 - masked_accuracy: 0.9104 - val_loss: 0.9077 - val_masked_accuracy: 0.8273\n",
      "Epoch 22/50\n",
      "\u001b[1m817/817\u001b[0m \u001b[32m━━━━━━━━━━━━━━━━━━━━\u001b[0m\u001b[37m\u001b[0m \u001b[1m84s\u001b[0m 103ms/step - loss: 0.2921 - masked_accuracy: 0.9144 - val_loss: 0.9282 - val_masked_accuracy: 0.8258\n",
      "Epoch 23/50\n",
      "\u001b[1m817/817\u001b[0m \u001b[32m━━━━━━━━━━━━━━━━━━━━\u001b[0m\u001b[37m\u001b[0m \u001b[1m85s\u001b[0m 103ms/step - loss: 0.2791 - masked_accuracy: 0.9178 - val_loss: 0.9227 - val_masked_accuracy: 0.8278\n",
      "Epoch 24/50\n",
      "\u001b[1m817/817\u001b[0m \u001b[32m━━━━━━━━━━━━━━━━━━━━\u001b[0m\u001b[37m\u001b[0m \u001b[1m85s\u001b[0m 104ms/step - loss: 0.2656 - masked_accuracy: 0.9214 - val_loss: 0.9454 - val_masked_accuracy: 0.8275\n",
      "Epoch 25/50\n",
      "\u001b[1m817/817\u001b[0m \u001b[32m━━━━━━━━━━━━━━━━━━━━\u001b[0m\u001b[37m\u001b[0m \u001b[1m143s\u001b[0m 105ms/step - loss: 0.2557 - masked_accuracy: 0.9245 - val_loss: 0.9682 - val_masked_accuracy: 0.8276\n",
      "Epoch 26/50\n",
      "\u001b[1m817/817\u001b[0m \u001b[32m━━━━━━━━━━━━━━━━━━━━\u001b[0m\u001b[37m\u001b[0m \u001b[1m86s\u001b[0m 105ms/step - loss: 0.2428 - masked_accuracy: 0.9280 - val_loss: 0.9916 - val_masked_accuracy: 0.8269\n",
      "Epoch 27/50\n",
      "\u001b[1m817/817\u001b[0m \u001b[32m━━━━━━━━━━━━━━━━━━━━\u001b[0m\u001b[37m\u001b[0m \u001b[1m86s\u001b[0m 105ms/step - loss: 0.2346 - masked_accuracy: 0.9303 - val_loss: 0.9791 - val_masked_accuracy: 0.8289\n",
      "Epoch 28/50\n",
      "\u001b[1m817/817\u001b[0m \u001b[32m━━━━━━━━━━━━━━━━━━━━\u001b[0m\u001b[37m\u001b[0m \u001b[1m85s\u001b[0m 104ms/step - loss: 0.2260 - masked_accuracy: 0.9324 - val_loss: 1.0424 - val_masked_accuracy: 0.8248\n",
      "Epoch 29/50\n",
      "\u001b[1m817/817\u001b[0m \u001b[32m━━━━━━━━━━━━━━━━━━━━\u001b[0m\u001b[37m\u001b[0m \u001b[1m86s\u001b[0m 105ms/step - loss: 0.2168 - masked_accuracy: 0.9352 - val_loss: 1.0301 - val_masked_accuracy: 0.8278\n",
      "Epoch 30/50\n",
      "\u001b[1m817/817\u001b[0m \u001b[32m━━━━━━━━━━━━━━━━━━━━\u001b[0m\u001b[37m\u001b[0m \u001b[1m86s\u001b[0m 105ms/step - loss: 0.2079 - masked_accuracy: 0.9376 - val_loss: 1.0147 - val_masked_accuracy: 0.8281\n",
      "Epoch 31/50\n",
      "\u001b[1m817/817\u001b[0m \u001b[32m━━━━━━━━━━━━━━━━━━━━\u001b[0m\u001b[37m\u001b[0m \u001b[1m85s\u001b[0m 104ms/step - loss: 0.2010 - masked_accuracy: 0.9398 - val_loss: 1.0393 - val_masked_accuracy: 0.8291\n",
      "Epoch 32/50\n",
      "\u001b[1m817/817\u001b[0m \u001b[32m━━━━━━━━━━━━━━━━━━━━\u001b[0m\u001b[37m\u001b[0m \u001b[1m86s\u001b[0m 105ms/step - loss: 0.1940 - masked_accuracy: 0.9415 - val_loss: 1.0600 - val_masked_accuracy: 0.8272\n",
      "Epoch 33/50\n",
      "\u001b[1m817/817\u001b[0m \u001b[32m━━━━━━━━━━━━━━━━━━━━\u001b[0m\u001b[37m\u001b[0m \u001b[1m86s\u001b[0m 105ms/step - loss: 0.1855 - masked_accuracy: 0.9439 - val_loss: 1.0811 - val_masked_accuracy: 0.8273\n",
      "Epoch 34/50\n",
      "\u001b[1m817/817\u001b[0m \u001b[32m━━━━━━━━━━━━━━━━━━━━\u001b[0m\u001b[37m\u001b[0m \u001b[1m141s\u001b[0m 104ms/step - loss: 0.1813 - masked_accuracy: 0.9455 - val_loss: 1.0721 - val_masked_accuracy: 0.8285\n",
      "Epoch 35/50\n",
      "\u001b[1m817/817\u001b[0m \u001b[32m━━━━━━━━━━━━━━━━━━━━\u001b[0m\u001b[37m\u001b[0m \u001b[1m86s\u001b[0m 105ms/step - loss: 0.1745 - masked_accuracy: 0.9476 - val_loss: 1.1124 - val_masked_accuracy: 0.8257\n",
      "Epoch 36/50\n",
      "\u001b[1m817/817\u001b[0m \u001b[32m━━━━━━━━━━━━━━━━━━━━\u001b[0m\u001b[37m\u001b[0m \u001b[1m86s\u001b[0m 105ms/step - loss: 0.1697 - masked_accuracy: 0.9490 - val_loss: 1.1169 - val_masked_accuracy: 0.8253\n",
      "Epoch 37/50\n",
      "\u001b[1m817/817\u001b[0m \u001b[32m━━━━━━━━━━━━━━━━━━━━\u001b[0m\u001b[37m\u001b[0m \u001b[1m85s\u001b[0m 104ms/step - loss: 0.1639 - masked_accuracy: 0.9504 - val_loss: 1.1157 - val_masked_accuracy: 0.8250\n",
      "Epoch 38/50\n",
      "\u001b[1m817/817\u001b[0m \u001b[32m━━━━━━━━━━━━━━━━━━━━\u001b[0m\u001b[37m\u001b[0m \u001b[1m85s\u001b[0m 104ms/step - loss: 0.1590 - masked_accuracy: 0.9520 - val_loss: 1.1313 - val_masked_accuracy: 0.8268\n",
      "Epoch 39/50\n",
      "\u001b[1m817/817\u001b[0m \u001b[32m━━━━━━━━━━━━━━━━━━━━\u001b[0m\u001b[37m\u001b[0m \u001b[1m86s\u001b[0m 105ms/step - loss: 0.1545 - masked_accuracy: 0.9533 - val_loss: 1.1748 - val_masked_accuracy: 0.8257\n",
      "Epoch 40/50\n",
      "\u001b[1m817/817\u001b[0m \u001b[32m━━━━━━━━━━━━━━━━━━━━\u001b[0m\u001b[37m\u001b[0m \u001b[1m86s\u001b[0m 105ms/step - loss: 0.1505 - masked_accuracy: 0.9546 - val_loss: 1.1547 - val_masked_accuracy: 0.8284\n",
      "Epoch 41/50\n",
      "\u001b[1m817/817\u001b[0m \u001b[32m━━━━━━━━━━━━━━━━━━━━\u001b[0m\u001b[37m\u001b[0m \u001b[1m86s\u001b[0m 105ms/step - loss: 0.1460 - masked_accuracy: 0.9558 - val_loss: 1.1543 - val_masked_accuracy: 0.8276\n",
      "Epoch 41: early stopping\n"
     ]
    }
   ],
   "source": [
    "# Define the batch size for training\n",
    "BATCH_SIZE = 256\n",
    "vocab_size = 10000\n",
    "\n",
    "# Verify transformer setup with random source and target sequences\n",
    "src = tf.random.uniform((BATCH_SIZE, max_sequence_len), dtype=tf.int64, minval=0, maxval=vocab_size)\n",
    "trg = tf.random.uniform((BATCH_SIZE, max_sequence_len), dtype=tf.int64, minval=0, maxval=vocab_size)\n",
    "transformer((src,trg))\n",
    "\n",
    "# Compile the transformer model with the custom optimizer, loss function, and accuracy metric and check the architecture\n",
    "transformer.compile(optimizer=opt, loss=[custom_masked_loss], metrics=[masked_accuracy])\n",
    "transformer.summary()\n",
    "\n",
    "# Remove the first element of each row and append a column of zeros to maintain the sequence length after the shift\n",
    "sliced_array = labels[:, 1:]\n",
    "ordered_sentences_shifted = np.hstack((sliced_array, np.zeros((sliced_array.shape[0], 1),dtype=int)))\n",
    "\n",
    "# Set up early stopping to monitor validation accuracy\n",
    "early_stopping = keras.callbacks.EarlyStopping(\n",
    "    monitor=\"val_masked_accuracy\",\n",
    "    min_delta=0,\n",
    "    patience=10,\n",
    "    verbose=1,\n",
    "    mode=\"max\",\n",
    "    restore_best_weights=False,\n",
    "    start_from_epoch=0,\n",
    ")\n",
    "\n",
    "# Train the transformer model with the training data, using early stopping and 20% validation split\n",
    "history = transformer.fit(x=(x_train,labels), y=ordered_sentences_shifted, batch_size=BATCH_SIZE, epochs=50, callbacks=[early_stopping], validation_split=0.05)"
   ]
  },
  {
   "cell_type": "markdown",
   "id": "4c67def3",
   "metadata": {
    "papermill": {
     "duration": 2.921828,
     "end_time": "2024-06-11T19:39:08.861608",
     "exception": false,
     "start_time": "2024-06-11T19:39:05.939780",
     "status": "completed"
    },
    "tags": []
   },
   "source": [
    "## Testing the model\n",
    "\n",
    "* Translating the outputs of the model into sequences of token\n",
    "* Detokenizing the sequences into human readable sentences\n",
    "* Computing the score on 3000 elements of testset\n"
   ]
  },
  {
   "cell_type": "code",
   "execution_count": 21,
   "id": "363af700",
   "metadata": {
    "execution": {
     "iopub.execute_input": "2024-06-11T19:39:14.551503Z",
     "iopub.status.busy": "2024-06-11T19:39:14.551137Z",
     "iopub.status.idle": "2024-06-11T19:39:14.558416Z",
     "shell.execute_reply": "2024-06-11T19:39:14.557563Z"
    },
    "papermill": {
     "duration": 2.883064,
     "end_time": "2024-06-11T19:39:14.560268",
     "exception": false,
     "start_time": "2024-06-11T19:39:11.677204",
     "status": "completed"
    },
    "tags": []
   },
   "outputs": [],
   "source": [
    "# Translate input sentences using the transformer model and predict token-by-token up to max_length\n",
    "def translate(input_sentences, max_length=28):\n",
    "    batch_size = tf.shape(input_sentences)[0]\n",
    "    encoder_input = input_sentences #tf.expand_dims(input_sentences, 0)\n",
    "    decoded_indexes = [[3] for _ in range(batch_size)]\n",
    "\n",
    "    for i in range(1, max_length):\n",
    "        decoder_input = tf.convert_to_tensor(decoded_indexes)#tf.expand_dims(decoded_indexes, 0)\n",
    "        predictions = np.array(transformer((np.array(encoder_input), np.array(decoder_input)), training = False))\n",
    "        predictions = predictions[:, -1, :]\n",
    "        for j in range(batch_size):\n",
    "            best_index = np.argmax(predictions[j])\n",
    "            decoded_indexes[j].append(best_index)\n",
    "    return decoded_indexes"
   ]
  },
  {
   "cell_type": "code",
   "execution_count": 22,
   "id": "1bb91837",
   "metadata": {
    "execution": {
     "iopub.execute_input": "2024-06-11T19:39:20.256338Z",
     "iopub.status.busy": "2024-06-11T19:39:20.255959Z",
     "iopub.status.idle": "2024-06-11T19:42:11.164841Z",
     "shell.execute_reply": "2024-06-11T19:42:11.163897Z"
    },
    "id": "9mHzQ1T1eT5H",
    "outputId": "22ebc516-2e69-473e-fd24-5aed41861bd6",
    "papermill": {
     "duration": 176.621501,
     "end_time": "2024-06-11T19:42:14.040807",
     "exception": false,
     "start_time": "2024-06-11T19:39:17.419306",
     "status": "completed"
    },
    "tags": []
   },
   "outputs": [
    {
     "name": "stdout",
     "output_type": "stream",
     "text": [
      "##### DATASET ##### \n",
      "\n"
     ]
    },
    {
     "name": "stderr",
     "output_type": "stream",
     "text": [
      "/opt/conda/lib/python3.10/site-packages/keras/src/ops/nn.py:545: UserWarning: You are using a softmax over axis 3 of a tensor of shape (500, 3, 1, 1). This axis has size 1. The softmax operation will always return the value 1, which is likely not what you intended. Did you mean to use a sigmoid instead?\n",
      "  warnings.warn(\n"
     ]
    },
    {
     "name": "stdout",
     "output_type": "stream",
     "text": [
      "Computed: 500; Score: 0.8983231436298127\n",
      "Computed: 1000; Score: 0.89943775764734\n",
      "Computed: 1500; Score: 0.9017073316857626\n",
      "Computed: 2000; Score: 0.8954527473103515\n",
      "Computed: 2500; Score: 0.8950228223456183\n",
      "Computed: 3000; Score: 0.8980481871110777\n",
      "##### DATASET ##### \n",
      "\n",
      "Computed: 500; Score: 0.5036069817702377\n",
      "Computed: 1000; Score: 0.511865962980707\n",
      "Computed: 1500; Score: 0.5081348188609218\n",
      "Computed: 2000; Score: 0.5072448989158479\n",
      "Computed: 2500; Score: 0.5045335404919101\n",
      "Computed: 3000; Score: 0.5016748135891118\n"
     ]
    }
   ],
   "source": [
    "detokenizer = TextDetokenizer(tokenizer)\n",
    "\n",
    "# Set batch size and total number of sentences to compute the score on\n",
    "batch_size = 500\n",
    "total = 3000\n",
    "\n",
    "# Initialize DataGenerator objects for training and testing sets\n",
    "trainset=DataGenerator(original_data[:220000], batch_size=total)\n",
    "testset=DataGenerator(original_data[220000:], batch_size=total)\n",
    "\n",
    "# Although only the testset will be considered, I computed the score on both the train set and the test set over 3000 samples to see the trend.\n",
    "# I iterate over each batch in the dataset, translating, detokenizing, and computing scores for each batch.\n",
    "for dataset in [trainset, testset]:\n",
    "    print(\"##### DATASET ##### \\n\") \n",
    "    shuffled_sentences_test,original_sentences_test = dataset.__getitem__(0)\n",
    "    all_scores = []\n",
    "    for i in range(total//batch_size):\n",
    "        shuffled_sentences = shuffled_sentences_test[i*batch_size:(i+1)*batch_size]\n",
    "        original_sentences = original_sentences_test[i*batch_size:(i+1)*batch_size]\n",
    "        translated_sentences = translate(shuffled_sentences)\n",
    "\n",
    "        detokenized_predictions= detokenizer(translated_sentences)\n",
    "        detokenized_labels=detokenizer(original_sentences)\n",
    "\n",
    "#         print(detokenized_predictions[0].replace(\"<start>\", \"\").replace(\"<end>\", \"\").replace(\" <comma>\", \",\").strip())\n",
    "#         print(detokenized_labels[0].replace(\"<start>\", \"\").replace(\"<end>\", \"\").replace(\" <comma>\", \",\").strip())\n",
    "\n",
    "        all_scores += [score(single_original.replace(\"<start>\", \"\").replace(\"<end>\", \"\").replace(\" <comma>\", \",\").strip(), single_translated.replace(\"<start>\", \"\").replace(\"<end>\", \"\").replace(\" <comma>\", \",\").strip()) for single_original, single_translated in zip(detokenized_labels, detokenized_predictions)]\n",
    "        print(f\"Computed: {len(all_scores)}; Score: {np.mean(all_scores)}\")"
   ]
  },
  {
   "cell_type": "code",
   "execution_count": 23,
   "id": "6aab3195",
   "metadata": {
    "execution": {
     "iopub.execute_input": "2024-06-11T19:42:25.320215Z",
     "iopub.status.busy": "2024-06-11T19:42:25.319407Z",
     "iopub.status.idle": "2024-06-11T19:42:25.913815Z",
     "shell.execute_reply": "2024-06-11T19:42:25.913040Z"
    },
    "id": "csg2GxbMgeCO",
    "papermill": {
     "duration": 3.361115,
     "end_time": "2024-06-11T19:42:25.916020",
     "exception": false,
     "start_time": "2024-06-11T19:42:22.554905",
     "status": "completed"
    },
    "tags": []
   },
   "outputs": [],
   "source": [
    "transformer.save_weights('transformer.weights.h5')"
   ]
  },
  {
   "cell_type": "markdown",
   "id": "c2bcec4d",
   "metadata": {},
   "source": [
    "## Last Considerations:\n",
    "I've started with a Encoder-only Transformer but the performances have never reached a satisfiable results, so I've decided to use an Encoder-Decoder one where I removed the positional embedding in Encoder Block since the position of the tokens in the shuffle sentences were meaningless.\n",
    "\n",
    "With this Architecture I've started several trials, I soon found out that some hyperparameters influenced greatly the number of the parameters of the network, such as the embedding dimension and the number of heads, instead the feed-forward layer dimension was less influenting.\n",
    "\n",
    "This configurations below came out as the best ones:\n",
    "\n",
    "- Number of Heads: 2, Embedding dimension: 300, Number of layers: 4,  feed-forward layer dimension: 64, dropout rate: 0.4 that produce a network with 18M parameters\n",
    "- Number of Heads: 2, Embedding dimension: 256, Number of layers: 6, feed-forward layer dimension: 64, dropout rate: 0.4 that produce a network with 17,5M parameters\n",
    "- Number of Heads: 2, Embedding dimension: 240, Number of layers: 6, feed-forward layer dimension: 64, dropout rate: 0.4 that produce a network with 16M parameters\n",
    "\n",
    "- Number of Heads: 3, Embedding dimension: 200, Number of layers: 6, feed-forward layer dimension: 64, dropout rate: 0.4 that produce a network with 12M parameters\n",
    "\n",
    "With this configurations the final scores were always between 0.49 and 0.51 so I've decided to use the last consfiguration that produces the lowest number of parameters."
   ]
  },
  {
   "cell_type": "markdown",
   "id": "8ce8cc52",
   "metadata": {},
   "source": []
  }
 ],
 "metadata": {
  "colab": {
   "provenance": []
  },
  "kaggle": {
   "accelerator": "gpu",
   "dataSources": [],
   "isGpuEnabled": true,
   "isInternetEnabled": true,
   "language": "python",
   "sourceType": "notebook"
  },
  "kernelspec": {
   "display_name": "Python 3",
   "language": "python",
   "name": "python3"
  },
  "language_info": {
   "codemirror_mode": {
    "name": "ipython",
    "version": 3
   },
   "file_extension": ".py",
   "mimetype": "text/x-python",
   "name": "python",
   "nbconvert_exporter": "python",
   "pygments_lexer": "ipython3",
   "version": "3.10.13"
  },
  "papermill": {
   "default_parameters": {},
   "duration": 4280.886803,
   "end_time": "2024-06-11T19:42:38.883457",
   "environment_variables": {},
   "exception": true,
   "input_path": "__notebook__.ipynb",
   "output_path": "__notebook__.ipynb",
   "parameters": {},
   "start_time": "2024-06-11T18:31:17.996654",
   "version": "2.5.0"
  },
  "widgets": {
   "application/vnd.jupyter.widget-state+json": {
    "state": {
     "02085dd149af4dd0bf80bd69678b5443": {
      "model_module": "@jupyter-widgets/controls",
      "model_module_version": "1.5.0",
      "model_name": "HTMLModel",
      "state": {
       "_dom_classes": [],
       "_model_module": "@jupyter-widgets/controls",
       "_model_module_version": "1.5.0",
       "_model_name": "HTMLModel",
       "_view_count": null,
       "_view_module": "@jupyter-widgets/controls",
       "_view_module_version": "1.5.0",
       "_view_name": "HTMLView",
       "description": "",
       "description_tooltip": null,
       "layout": "IPY_MODEL_9a820f8e22d242d1942257a80d86bf6f",
       "placeholder": "​",
       "style": "IPY_MODEL_dfe8e1a0580a40a994ce798f5825514c",
       "value": "Computing checksums: 100%"
      }
     },
     "0777ea7ae8d74496b0d718112c103d62": {
      "model_module": "@jupyter-widgets/base",
      "model_module_version": "1.2.0",
      "model_name": "LayoutModel",
      "state": {
       "_model_module": "@jupyter-widgets/base",
       "_model_module_version": "1.2.0",
       "_model_name": "LayoutModel",
       "_view_count": null,
       "_view_module": "@jupyter-widgets/base",
       "_view_module_version": "1.2.0",
       "_view_name": "LayoutView",
       "align_content": null,
       "align_items": null,
       "align_self": null,
       "border": null,
       "bottom": null,
       "display": null,
       "flex": null,
       "flex_flow": null,
       "grid_area": null,
       "grid_auto_columns": null,
       "grid_auto_flow": null,
       "grid_auto_rows": null,
       "grid_column": null,
       "grid_gap": null,
       "grid_row": null,
       "grid_template_areas": null,
       "grid_template_columns": null,
       "grid_template_rows": null,
       "height": null,
       "justify_content": null,
       "justify_items": null,
       "left": null,
       "margin": null,
       "max_height": null,
       "max_width": null,
       "min_height": null,
       "min_width": null,
       "object_fit": null,
       "object_position": null,
       "order": null,
       "overflow": null,
       "overflow_x": null,
       "overflow_y": null,
       "padding": null,
       "right": null,
       "top": null,
       "visibility": null,
       "width": null
      }
     },
     "0a656bde863a43549491b7d12fd5eb9c": {
      "model_module": "@jupyter-widgets/base",
      "model_module_version": "1.2.0",
      "model_name": "LayoutModel",
      "state": {
       "_model_module": "@jupyter-widgets/base",
       "_model_module_version": "1.2.0",
       "_model_name": "LayoutModel",
       "_view_count": null,
       "_view_module": "@jupyter-widgets/base",
       "_view_module_version": "1.2.0",
       "_view_name": "LayoutView",
       "align_content": null,
       "align_items": null,
       "align_self": null,
       "border": null,
       "bottom": null,
       "display": null,
       "flex": null,
       "flex_flow": null,
       "grid_area": null,
       "grid_auto_columns": null,
       "grid_auto_flow": null,
       "grid_auto_rows": null,
       "grid_column": null,
       "grid_gap": null,
       "grid_row": null,
       "grid_template_areas": null,
       "grid_template_columns": null,
       "grid_template_rows": null,
       "height": null,
       "justify_content": null,
       "justify_items": null,
       "left": null,
       "margin": null,
       "max_height": null,
       "max_width": null,
       "min_height": null,
       "min_width": null,
       "object_fit": null,
       "object_position": null,
       "order": null,
       "overflow": null,
       "overflow_x": null,
       "overflow_y": null,
       "padding": null,
       "right": null,
       "top": null,
       "visibility": null,
       "width": null
      }
     },
     "0d7e31fee28d4bda8ef2dfc5eb27a0ef": {
      "model_module": "@jupyter-widgets/controls",
      "model_module_version": "1.5.0",
      "model_name": "ProgressStyleModel",
      "state": {
       "_model_module": "@jupyter-widgets/controls",
       "_model_module_version": "1.5.0",
       "_model_name": "ProgressStyleModel",
       "_view_count": null,
       "_view_module": "@jupyter-widgets/base",
       "_view_module_version": "1.2.0",
       "_view_name": "StyleView",
       "bar_color": null,
       "description_width": ""
      }
     },
     "180e2989516d49f4bd18521635bcf497": {
      "model_module": "@jupyter-widgets/controls",
      "model_module_version": "1.5.0",
      "model_name": "HBoxModel",
      "state": {
       "_dom_classes": [],
       "_model_module": "@jupyter-widgets/controls",
       "_model_module_version": "1.5.0",
       "_model_name": "HBoxModel",
       "_view_count": null,
       "_view_module": "@jupyter-widgets/controls",
       "_view_module_version": "1.5.0",
       "_view_name": "HBoxView",
       "box_style": "",
       "children": [
        "IPY_MODEL_02085dd149af4dd0bf80bd69678b5443",
        "IPY_MODEL_7094106821444c00ad205b62b8210f74",
        "IPY_MODEL_2feaf14f096140bcb6c99970832fedee"
       ],
       "layout": "IPY_MODEL_dfdba2b719ae4845be4703a50fa874d2"
      }
     },
     "1869e9f328bf4fdea7972f523919e209": {
      "model_module": "@jupyter-widgets/controls",
      "model_module_version": "1.5.0",
      "model_name": "HTMLModel",
      "state": {
       "_dom_classes": [],
       "_model_module": "@jupyter-widgets/controls",
       "_model_module_version": "1.5.0",
       "_model_name": "HTMLModel",
       "_view_count": null,
       "_view_module": "@jupyter-widgets/controls",
       "_view_module_version": "1.5.0",
       "_view_name": "HTMLView",
       "description": "",
       "description_tooltip": null,
       "layout": "IPY_MODEL_5f2db40baa3b432db503af10caa1dd6a",
       "placeholder": "​",
       "style": "IPY_MODEL_66191138bcfc48d48ef516e790c8262f",
       "value": "Downloading readme: 100%"
      }
     },
     "196235702a434ca7b3a1f92a3cd3d7d6": {
      "model_module": "@jupyter-widgets/controls",
      "model_module_version": "1.5.0",
      "model_name": "HTMLModel",
      "state": {
       "_dom_classes": [],
       "_model_module": "@jupyter-widgets/controls",
       "_model_module_version": "1.5.0",
       "_model_name": "HTMLModel",
       "_view_count": null,
       "_view_module": "@jupyter-widgets/controls",
       "_view_module_version": "1.5.0",
       "_view_name": "HTMLView",
       "description": "",
       "description_tooltip": null,
       "layout": "IPY_MODEL_b2f183156cbb4fe39349921dfb70d121",
       "placeholder": "​",
       "style": "IPY_MODEL_44758d0221ba404bb829389e4883efd3",
       "value": " 1020868/1020868 [01:22&lt;00:00, 12597.94 examples/s]"
      }
     },
     "1abc83fafc7b44e5883075f8b212fe25": {
      "model_module": "@jupyter-widgets/base",
      "model_module_version": "1.2.0",
      "model_name": "LayoutModel",
      "state": {
       "_model_module": "@jupyter-widgets/base",
       "_model_module_version": "1.2.0",
       "_model_name": "LayoutModel",
       "_view_count": null,
       "_view_module": "@jupyter-widgets/base",
       "_view_module_version": "1.2.0",
       "_view_name": "LayoutView",
       "align_content": null,
       "align_items": null,
       "align_self": null,
       "border": null,
       "bottom": null,
       "display": null,
       "flex": null,
       "flex_flow": null,
       "grid_area": null,
       "grid_auto_columns": null,
       "grid_auto_flow": null,
       "grid_auto_rows": null,
       "grid_column": null,
       "grid_gap": null,
       "grid_row": null,
       "grid_template_areas": null,
       "grid_template_columns": null,
       "grid_template_rows": null,
       "height": null,
       "justify_content": null,
       "justify_items": null,
       "left": null,
       "margin": null,
       "max_height": null,
       "max_width": null,
       "min_height": null,
       "min_width": null,
       "object_fit": null,
       "object_position": null,
       "order": null,
       "overflow": null,
       "overflow_x": null,
       "overflow_y": null,
       "padding": null,
       "right": null,
       "top": null,
       "visibility": null,
       "width": null
      }
     },
     "1be87a2e5e3e432aaa652542d2fda3ae": {
      "model_module": "@jupyter-widgets/controls",
      "model_module_version": "1.5.0",
      "model_name": "FloatProgressModel",
      "state": {
       "_dom_classes": [],
       "_model_module": "@jupyter-widgets/controls",
       "_model_module_version": "1.5.0",
       "_model_name": "FloatProgressModel",
       "_view_count": null,
       "_view_module": "@jupyter-widgets/controls",
       "_view_module_version": "1.5.0",
       "_view_name": "ProgressView",
       "bar_style": "success",
       "description": "",
       "description_tooltip": null,
       "layout": "IPY_MODEL_65c9c2844e544096b07b749b8c550f47",
       "max": 1020868,
       "min": 0,
       "orientation": "horizontal",
       "style": "IPY_MODEL_0d7e31fee28d4bda8ef2dfc5eb27a0ef",
       "value": 1020868
      }
     },
     "1e3dd70390d949ab88850c3f222badb8": {
      "model_module": "@jupyter-widgets/base",
      "model_module_version": "1.2.0",
      "model_name": "LayoutModel",
      "state": {
       "_model_module": "@jupyter-widgets/base",
       "_model_module_version": "1.2.0",
       "_model_name": "LayoutModel",
       "_view_count": null,
       "_view_module": "@jupyter-widgets/base",
       "_view_module_version": "1.2.0",
       "_view_name": "LayoutView",
       "align_content": null,
       "align_items": null,
       "align_self": null,
       "border": null,
       "bottom": null,
       "display": null,
       "flex": null,
       "flex_flow": null,
       "grid_area": null,
       "grid_auto_columns": null,
       "grid_auto_flow": null,
       "grid_auto_rows": null,
       "grid_column": null,
       "grid_gap": null,
       "grid_row": null,
       "grid_template_areas": null,
       "grid_template_columns": null,
       "grid_template_rows": null,
       "height": null,
       "justify_content": null,
       "justify_items": null,
       "left": null,
       "margin": null,
       "max_height": null,
       "max_width": null,
       "min_height": null,
       "min_width": null,
       "object_fit": null,
       "object_position": null,
       "order": null,
       "overflow": null,
       "overflow_x": null,
       "overflow_y": null,
       "padding": null,
       "right": null,
       "top": null,
       "visibility": null,
       "width": null
      }
     },
     "1fb3abe3a388436ab02bacec057e02d7": {
      "model_module": "@jupyter-widgets/base",
      "model_module_version": "1.2.0",
      "model_name": "LayoutModel",
      "state": {
       "_model_module": "@jupyter-widgets/base",
       "_model_module_version": "1.2.0",
       "_model_name": "LayoutModel",
       "_view_count": null,
       "_view_module": "@jupyter-widgets/base",
       "_view_module_version": "1.2.0",
       "_view_name": "LayoutView",
       "align_content": null,
       "align_items": null,
       "align_self": null,
       "border": null,
       "bottom": null,
       "display": null,
       "flex": null,
       "flex_flow": null,
       "grid_area": null,
       "grid_auto_columns": null,
       "grid_auto_flow": null,
       "grid_auto_rows": null,
       "grid_column": null,
       "grid_gap": null,
       "grid_row": null,
       "grid_template_areas": null,
       "grid_template_columns": null,
       "grid_template_rows": null,
       "height": null,
       "justify_content": null,
       "justify_items": null,
       "left": null,
       "margin": null,
       "max_height": null,
       "max_width": null,
       "min_height": null,
       "min_width": null,
       "object_fit": null,
       "object_position": null,
       "order": null,
       "overflow": null,
       "overflow_x": null,
       "overflow_y": null,
       "padding": null,
       "right": null,
       "top": null,
       "visibility": null,
       "width": null
      }
     },
     "25540449f14c4fcd8684ea408b4b4c3b": {
      "model_module": "@jupyter-widgets/controls",
      "model_module_version": "1.5.0",
      "model_name": "FloatProgressModel",
      "state": {
       "_dom_classes": [],
       "_model_module": "@jupyter-widgets/controls",
       "_model_module_version": "1.5.0",
       "_model_name": "FloatProgressModel",
       "_view_count": null,
       "_view_module": "@jupyter-widgets/controls",
       "_view_module_version": "1.5.0",
       "_view_name": "ProgressView",
       "bar_style": "success",
       "description": "",
       "description_tooltip": null,
       "layout": "IPY_MODEL_ca1b30e5ff2a4495aaa6d64783f44a26",
       "max": 1020868,
       "min": 0,
       "orientation": "horizontal",
       "style": "IPY_MODEL_f8df3371a7784a7f99500664dc332318",
       "value": 1020868
      }
     },
     "25fa29d806a34d60a0b852a128686166": {
      "model_module": "@jupyter-widgets/controls",
      "model_module_version": "1.5.0",
      "model_name": "HTMLModel",
      "state": {
       "_dom_classes": [],
       "_model_module": "@jupyter-widgets/controls",
       "_model_module_version": "1.5.0",
       "_model_name": "HTMLModel",
       "_view_count": null,
       "_view_module": "@jupyter-widgets/controls",
       "_view_module_version": "1.5.0",
       "_view_name": "HTMLView",
       "description": "",
       "description_tooltip": null,
       "layout": "IPY_MODEL_62ae53544f4941f3a1194215985711d3",
       "placeholder": "​",
       "style": "IPY_MODEL_ac4d3bb1f8dd4e3d9aa650739818b1ad",
       "value": "Downloading builder script: 100%"
      }
     },
     "2feaf14f096140bcb6c99970832fedee": {
      "model_module": "@jupyter-widgets/controls",
      "model_module_version": "1.5.0",
      "model_name": "HTMLModel",
      "state": {
       "_dom_classes": [],
       "_model_module": "@jupyter-widgets/controls",
       "_model_module_version": "1.5.0",
       "_model_name": "HTMLModel",
       "_view_count": null,
       "_view_module": "@jupyter-widgets/controls",
       "_view_module_version": "1.5.0",
       "_view_name": "HTMLView",
       "description": "",
       "description_tooltip": null,
       "layout": "IPY_MODEL_0777ea7ae8d74496b0d718112c103d62",
       "placeholder": "​",
       "style": "IPY_MODEL_764111c71eb64a93840c418a947a215b",
       "value": " 1/1 [00:00&lt;00:00, 122.93it/s]"
      }
     },
     "301aa45350a64e75868b52c10bca497f": {
      "model_module": "@jupyter-widgets/base",
      "model_module_version": "1.2.0",
      "model_name": "LayoutModel",
      "state": {
       "_model_module": "@jupyter-widgets/base",
       "_model_module_version": "1.2.0",
       "_model_name": "LayoutModel",
       "_view_count": null,
       "_view_module": "@jupyter-widgets/base",
       "_view_module_version": "1.2.0",
       "_view_name": "LayoutView",
       "align_content": null,
       "align_items": null,
       "align_self": null,
       "border": null,
       "bottom": null,
       "display": null,
       "flex": null,
       "flex_flow": null,
       "grid_area": null,
       "grid_auto_columns": null,
       "grid_auto_flow": null,
       "grid_auto_rows": null,
       "grid_column": null,
       "grid_gap": null,
       "grid_row": null,
       "grid_template_areas": null,
       "grid_template_columns": null,
       "grid_template_rows": null,
       "height": null,
       "justify_content": null,
       "justify_items": null,
       "left": null,
       "margin": null,
       "max_height": null,
       "max_width": null,
       "min_height": null,
       "min_width": null,
       "object_fit": null,
       "object_position": null,
       "order": null,
       "overflow": null,
       "overflow_x": null,
       "overflow_y": null,
       "padding": null,
       "right": null,
       "top": null,
       "visibility": null,
       "width": null
      }
     },
     "3142b50f0f724f16a5ec27b719aa2e38": {
      "model_module": "@jupyter-widgets/controls",
      "model_module_version": "1.5.0",
      "model_name": "HBoxModel",
      "state": {
       "_dom_classes": [],
       "_model_module": "@jupyter-widgets/controls",
       "_model_module_version": "1.5.0",
       "_model_name": "HBoxModel",
       "_view_count": null,
       "_view_module": "@jupyter-widgets/controls",
       "_view_module_version": "1.5.0",
       "_view_name": "HBoxView",
       "box_style": "",
       "children": [
        "IPY_MODEL_25fa29d806a34d60a0b852a128686166",
        "IPY_MODEL_483cafad1d884092ba8c69ca0ac82552",
        "IPY_MODEL_ed0d64ef612f4d17b22f99cea493bc09"
       ],
       "layout": "IPY_MODEL_1abc83fafc7b44e5883075f8b212fe25"
      }
     },
     "336b4ccc1a7849069a4a873706e0dea0": {
      "model_module": "@jupyter-widgets/base",
      "model_module_version": "1.2.0",
      "model_name": "LayoutModel",
      "state": {
       "_model_module": "@jupyter-widgets/base",
       "_model_module_version": "1.2.0",
       "_model_name": "LayoutModel",
       "_view_count": null,
       "_view_module": "@jupyter-widgets/base",
       "_view_module_version": "1.2.0",
       "_view_name": "LayoutView",
       "align_content": null,
       "align_items": null,
       "align_self": null,
       "border": null,
       "bottom": null,
       "display": null,
       "flex": null,
       "flex_flow": null,
       "grid_area": null,
       "grid_auto_columns": null,
       "grid_auto_flow": null,
       "grid_auto_rows": null,
       "grid_column": null,
       "grid_gap": null,
       "grid_row": null,
       "grid_template_areas": null,
       "grid_template_columns": null,
       "grid_template_rows": null,
       "height": null,
       "justify_content": null,
       "justify_items": null,
       "left": null,
       "margin": null,
       "max_height": null,
       "max_width": null,
       "min_height": null,
       "min_width": null,
       "object_fit": null,
       "object_position": null,
       "order": null,
       "overflow": null,
       "overflow_x": null,
       "overflow_y": null,
       "padding": null,
       "right": null,
       "top": null,
       "visibility": null,
       "width": null
      }
     },
     "33bbaa6be42b4a35b7afdabfef670fdf": {
      "model_module": "@jupyter-widgets/controls",
      "model_module_version": "1.5.0",
      "model_name": "FloatProgressModel",
      "state": {
       "_dom_classes": [],
       "_model_module": "@jupyter-widgets/controls",
       "_model_module_version": "1.5.0",
       "_model_name": "FloatProgressModel",
       "_view_count": null,
       "_view_module": "@jupyter-widgets/controls",
       "_view_module_version": "1.5.0",
       "_view_name": "ProgressView",
       "bar_style": "success",
       "description": "",
       "description_tooltip": null,
       "layout": "IPY_MODEL_301aa45350a64e75868b52c10bca497f",
       "max": 27147920,
       "min": 0,
       "orientation": "horizontal",
       "style": "IPY_MODEL_f25952964fa847f0aa9de8f40cea095f",
       "value": 27147920
      }
     },
     "44758d0221ba404bb829389e4883efd3": {
      "model_module": "@jupyter-widgets/controls",
      "model_module_version": "1.5.0",
      "model_name": "DescriptionStyleModel",
      "state": {
       "_model_module": "@jupyter-widgets/controls",
       "_model_module_version": "1.5.0",
       "_model_name": "DescriptionStyleModel",
       "_view_count": null,
       "_view_module": "@jupyter-widgets/base",
       "_view_module_version": "1.2.0",
       "_view_name": "StyleView",
       "description_width": ""
      }
     },
     "483cafad1d884092ba8c69ca0ac82552": {
      "model_module": "@jupyter-widgets/controls",
      "model_module_version": "1.5.0",
      "model_name": "FloatProgressModel",
      "state": {
       "_dom_classes": [],
       "_model_module": "@jupyter-widgets/controls",
       "_model_module_version": "1.5.0",
       "_model_name": "FloatProgressModel",
       "_view_count": null,
       "_view_module": "@jupyter-widgets/controls",
       "_view_module_version": "1.5.0",
       "_view_name": "ProgressView",
       "bar_style": "success",
       "description": "",
       "description_tooltip": null,
       "layout": "IPY_MODEL_1e3dd70390d949ab88850c3f222badb8",
       "max": 8643,
       "min": 0,
       "orientation": "horizontal",
       "style": "IPY_MODEL_b3ebdb1ddb1d48c28f1c75d8ab82500b",
       "value": 8643
      }
     },
     "4bfe479b88144808a06eacd818a6fae3": {
      "model_module": "@jupyter-widgets/controls",
      "model_module_version": "1.5.0",
      "model_name": "DescriptionStyleModel",
      "state": {
       "_model_module": "@jupyter-widgets/controls",
       "_model_module_version": "1.5.0",
       "_model_name": "DescriptionStyleModel",
       "_view_count": null,
       "_view_module": "@jupyter-widgets/base",
       "_view_module_version": "1.2.0",
       "_view_name": "StyleView",
       "description_width": ""
      }
     },
     "53eec516cbd6499ea361fc631d2615ed": {
      "model_module": "@jupyter-widgets/controls",
      "model_module_version": "1.5.0",
      "model_name": "DescriptionStyleModel",
      "state": {
       "_model_module": "@jupyter-widgets/controls",
       "_model_module_version": "1.5.0",
       "_model_name": "DescriptionStyleModel",
       "_view_count": null,
       "_view_module": "@jupyter-widgets/base",
       "_view_module_version": "1.2.0",
       "_view_name": "StyleView",
       "description_width": ""
      }
     },
     "5aa523fae94d40d9ab7629976ac10cf6": {
      "model_module": "@jupyter-widgets/controls",
      "model_module_version": "1.5.0",
      "model_name": "HTMLModel",
      "state": {
       "_dom_classes": [],
       "_model_module": "@jupyter-widgets/controls",
       "_model_module_version": "1.5.0",
       "_model_name": "HTMLModel",
       "_view_count": null,
       "_view_module": "@jupyter-widgets/controls",
       "_view_module_version": "1.5.0",
       "_view_name": "HTMLView",
       "description": "",
       "description_tooltip": null,
       "layout": "IPY_MODEL_edb8e79ec2994f7fac9ccd67c4b6f70b",
       "placeholder": "​",
       "style": "IPY_MODEL_cfc57e2f907f49d785612aa6bf4510ae",
       "value": "Filter: 100%"
      }
     },
     "5ed2f73bb68a423e9442046e1f699523": {
      "model_module": "@jupyter-widgets/controls",
      "model_module_version": "1.5.0",
      "model_name": "HTMLModel",
      "state": {
       "_dom_classes": [],
       "_model_module": "@jupyter-widgets/controls",
       "_model_module_version": "1.5.0",
       "_model_name": "HTMLModel",
       "_view_count": null,
       "_view_module": "@jupyter-widgets/controls",
       "_view_module_version": "1.5.0",
       "_view_name": "HTMLView",
       "description": "",
       "description_tooltip": null,
       "layout": "IPY_MODEL_336b4ccc1a7849069a4a873706e0dea0",
       "placeholder": "​",
       "style": "IPY_MODEL_53eec516cbd6499ea361fc631d2615ed",
       "value": " 11.9k/11.9k [00:00&lt;00:00, 1.05MB/s]"
      }
     },
     "5f2db40baa3b432db503af10caa1dd6a": {
      "model_module": "@jupyter-widgets/base",
      "model_module_version": "1.2.0",
      "model_name": "LayoutModel",
      "state": {
       "_model_module": "@jupyter-widgets/base",
       "_model_module_version": "1.2.0",
       "_model_name": "LayoutModel",
       "_view_count": null,
       "_view_module": "@jupyter-widgets/base",
       "_view_module_version": "1.2.0",
       "_view_name": "LayoutView",
       "align_content": null,
       "align_items": null,
       "align_self": null,
       "border": null,
       "bottom": null,
       "display": null,
       "flex": null,
       "flex_flow": null,
       "grid_area": null,
       "grid_auto_columns": null,
       "grid_auto_flow": null,
       "grid_auto_rows": null,
       "grid_column": null,
       "grid_gap": null,
       "grid_row": null,
       "grid_template_areas": null,
       "grid_template_columns": null,
       "grid_template_rows": null,
       "height": null,
       "justify_content": null,
       "justify_items": null,
       "left": null,
       "margin": null,
       "max_height": null,
       "max_width": null,
       "min_height": null,
       "min_width": null,
       "object_fit": null,
       "object_position": null,
       "order": null,
       "overflow": null,
       "overflow_x": null,
       "overflow_y": null,
       "padding": null,
       "right": null,
       "top": null,
       "visibility": null,
       "width": null
      }
     },
     "62ae53544f4941f3a1194215985711d3": {
      "model_module": "@jupyter-widgets/base",
      "model_module_version": "1.2.0",
      "model_name": "LayoutModel",
      "state": {
       "_model_module": "@jupyter-widgets/base",
       "_model_module_version": "1.2.0",
       "_model_name": "LayoutModel",
       "_view_count": null,
       "_view_module": "@jupyter-widgets/base",
       "_view_module_version": "1.2.0",
       "_view_name": "LayoutView",
       "align_content": null,
       "align_items": null,
       "align_self": null,
       "border": null,
       "bottom": null,
       "display": null,
       "flex": null,
       "flex_flow": null,
       "grid_area": null,
       "grid_auto_columns": null,
       "grid_auto_flow": null,
       "grid_auto_rows": null,
       "grid_column": null,
       "grid_gap": null,
       "grid_row": null,
       "grid_template_areas": null,
       "grid_template_columns": null,
       "grid_template_rows": null,
       "height": null,
       "justify_content": null,
       "justify_items": null,
       "left": null,
       "margin": null,
       "max_height": null,
       "max_width": null,
       "min_height": null,
       "min_width": null,
       "object_fit": null,
       "object_position": null,
       "order": null,
       "overflow": null,
       "overflow_x": null,
       "overflow_y": null,
       "padding": null,
       "right": null,
       "top": null,
       "visibility": null,
       "width": null
      }
     },
     "65c9c2844e544096b07b749b8c550f47": {
      "model_module": "@jupyter-widgets/base",
      "model_module_version": "1.2.0",
      "model_name": "LayoutModel",
      "state": {
       "_model_module": "@jupyter-widgets/base",
       "_model_module_version": "1.2.0",
       "_model_name": "LayoutModel",
       "_view_count": null,
       "_view_module": "@jupyter-widgets/base",
       "_view_module_version": "1.2.0",
       "_view_name": "LayoutView",
       "align_content": null,
       "align_items": null,
       "align_self": null,
       "border": null,
       "bottom": null,
       "display": null,
       "flex": null,
       "flex_flow": null,
       "grid_area": null,
       "grid_auto_columns": null,
       "grid_auto_flow": null,
       "grid_auto_rows": null,
       "grid_column": null,
       "grid_gap": null,
       "grid_row": null,
       "grid_template_areas": null,
       "grid_template_columns": null,
       "grid_template_rows": null,
       "height": null,
       "justify_content": null,
       "justify_items": null,
       "left": null,
       "margin": null,
       "max_height": null,
       "max_width": null,
       "min_height": null,
       "min_width": null,
       "object_fit": null,
       "object_position": null,
       "order": null,
       "overflow": null,
       "overflow_x": null,
       "overflow_y": null,
       "padding": null,
       "right": null,
       "top": null,
       "visibility": null,
       "width": null
      }
     },
     "66191138bcfc48d48ef516e790c8262f": {
      "model_module": "@jupyter-widgets/controls",
      "model_module_version": "1.5.0",
      "model_name": "DescriptionStyleModel",
      "state": {
       "_model_module": "@jupyter-widgets/controls",
       "_model_module_version": "1.5.0",
       "_model_name": "DescriptionStyleModel",
       "_view_count": null,
       "_view_module": "@jupyter-widgets/base",
       "_view_module_version": "1.2.0",
       "_view_name": "StyleView",
       "description_width": ""
      }
     },
     "671a30e316ee4e0599ac1014406748ef": {
      "model_module": "@jupyter-widgets/controls",
      "model_module_version": "1.5.0",
      "model_name": "HBoxModel",
      "state": {
       "_dom_classes": [],
       "_model_module": "@jupyter-widgets/controls",
       "_model_module_version": "1.5.0",
       "_model_name": "HBoxModel",
       "_view_count": null,
       "_view_module": "@jupyter-widgets/controls",
       "_view_module_version": "1.5.0",
       "_view_name": "HBoxView",
       "box_style": "",
       "children": [
        "IPY_MODEL_5aa523fae94d40d9ab7629976ac10cf6",
        "IPY_MODEL_1be87a2e5e3e432aaa652542d2fda3ae",
        "IPY_MODEL_dc91c448b3f14096b8e08e554b8412d2"
       ],
       "layout": "IPY_MODEL_0a656bde863a43549491b7d12fd5eb9c"
      }
     },
     "677118d5fb4046deb62d52a433dde611": {
      "model_module": "@jupyter-widgets/controls",
      "model_module_version": "1.5.0",
      "model_name": "ProgressStyleModel",
      "state": {
       "_model_module": "@jupyter-widgets/controls",
       "_model_module_version": "1.5.0",
       "_model_name": "ProgressStyleModel",
       "_view_count": null,
       "_view_module": "@jupyter-widgets/base",
       "_view_module_version": "1.2.0",
       "_view_name": "StyleView",
       "bar_color": null,
       "description_width": ""
      }
     },
     "6bb8882bba504f7b92447c8a4cd2855d": {
      "model_module": "@jupyter-widgets/controls",
      "model_module_version": "1.5.0",
      "model_name": "DescriptionStyleModel",
      "state": {
       "_model_module": "@jupyter-widgets/controls",
       "_model_module_version": "1.5.0",
       "_model_name": "DescriptionStyleModel",
       "_view_count": null,
       "_view_module": "@jupyter-widgets/base",
       "_view_module_version": "1.2.0",
       "_view_name": "StyleView",
       "description_width": ""
      }
     },
     "6df9620752974f9d84d5549e30ffbd10": {
      "model_module": "@jupyter-widgets/controls",
      "model_module_version": "1.5.0",
      "model_name": "DescriptionStyleModel",
      "state": {
       "_model_module": "@jupyter-widgets/controls",
       "_model_module_version": "1.5.0",
       "_model_name": "DescriptionStyleModel",
       "_view_count": null,
       "_view_module": "@jupyter-widgets/base",
       "_view_module_version": "1.2.0",
       "_view_name": "StyleView",
       "description_width": ""
      }
     },
     "7094106821444c00ad205b62b8210f74": {
      "model_module": "@jupyter-widgets/controls",
      "model_module_version": "1.5.0",
      "model_name": "FloatProgressModel",
      "state": {
       "_dom_classes": [],
       "_model_module": "@jupyter-widgets/controls",
       "_model_module_version": "1.5.0",
       "_model_name": "FloatProgressModel",
       "_view_count": null,
       "_view_module": "@jupyter-widgets/controls",
       "_view_module_version": "1.5.0",
       "_view_name": "ProgressView",
       "bar_style": "success",
       "description": "",
       "description_tooltip": null,
       "layout": "IPY_MODEL_96b710b6c1004258ade74c2d8ff6ca71",
       "max": 1,
       "min": 0,
       "orientation": "horizontal",
       "style": "IPY_MODEL_e76d7bc646fd4df79a947a50e0ff407d",
       "value": 1
      }
     },
     "764111c71eb64a93840c418a947a215b": {
      "model_module": "@jupyter-widgets/controls",
      "model_module_version": "1.5.0",
      "model_name": "DescriptionStyleModel",
      "state": {
       "_model_module": "@jupyter-widgets/controls",
       "_model_module_version": "1.5.0",
       "_model_name": "DescriptionStyleModel",
       "_view_count": null,
       "_view_module": "@jupyter-widgets/base",
       "_view_module_version": "1.2.0",
       "_view_name": "StyleView",
       "description_width": ""
      }
     },
     "7fe5dfc7c2a84740aaa2e286aad70459": {
      "model_module": "@jupyter-widgets/controls",
      "model_module_version": "1.5.0",
      "model_name": "DescriptionStyleModel",
      "state": {
       "_model_module": "@jupyter-widgets/controls",
       "_model_module_version": "1.5.0",
       "_model_name": "DescriptionStyleModel",
       "_view_count": null,
       "_view_module": "@jupyter-widgets/base",
       "_view_module_version": "1.2.0",
       "_view_name": "StyleView",
       "description_width": ""
      }
     },
     "833e86d582a641a48fc854ad4d226935": {
      "model_module": "@jupyter-widgets/base",
      "model_module_version": "1.2.0",
      "model_name": "LayoutModel",
      "state": {
       "_model_module": "@jupyter-widgets/base",
       "_model_module_version": "1.2.0",
       "_model_name": "LayoutModel",
       "_view_count": null,
       "_view_module": "@jupyter-widgets/base",
       "_view_module_version": "1.2.0",
       "_view_name": "LayoutView",
       "align_content": null,
       "align_items": null,
       "align_self": null,
       "border": null,
       "bottom": null,
       "display": null,
       "flex": null,
       "flex_flow": null,
       "grid_area": null,
       "grid_auto_columns": null,
       "grid_auto_flow": null,
       "grid_auto_rows": null,
       "grid_column": null,
       "grid_gap": null,
       "grid_row": null,
       "grid_template_areas": null,
       "grid_template_columns": null,
       "grid_template_rows": null,
       "height": null,
       "justify_content": null,
       "justify_items": null,
       "left": null,
       "margin": null,
       "max_height": null,
       "max_width": null,
       "min_height": null,
       "min_width": null,
       "object_fit": null,
       "object_position": null,
       "order": null,
       "overflow": null,
       "overflow_x": null,
       "overflow_y": null,
       "padding": null,
       "right": null,
       "top": null,
       "visibility": null,
       "width": null
      }
     },
     "8521624b449c434d95336ba4c8efc8e5": {
      "model_module": "@jupyter-widgets/base",
      "model_module_version": "1.2.0",
      "model_name": "LayoutModel",
      "state": {
       "_model_module": "@jupyter-widgets/base",
       "_model_module_version": "1.2.0",
       "_model_name": "LayoutModel",
       "_view_count": null,
       "_view_module": "@jupyter-widgets/base",
       "_view_module_version": "1.2.0",
       "_view_name": "LayoutView",
       "align_content": null,
       "align_items": null,
       "align_self": null,
       "border": null,
       "bottom": null,
       "display": null,
       "flex": null,
       "flex_flow": null,
       "grid_area": null,
       "grid_auto_columns": null,
       "grid_auto_flow": null,
       "grid_auto_rows": null,
       "grid_column": null,
       "grid_gap": null,
       "grid_row": null,
       "grid_template_areas": null,
       "grid_template_columns": null,
       "grid_template_rows": null,
       "height": null,
       "justify_content": null,
       "justify_items": null,
       "left": null,
       "margin": null,
       "max_height": null,
       "max_width": null,
       "min_height": null,
       "min_width": null,
       "object_fit": null,
       "object_position": null,
       "order": null,
       "overflow": null,
       "overflow_x": null,
       "overflow_y": null,
       "padding": null,
       "right": null,
       "top": null,
       "visibility": null,
       "width": null
      }
     },
     "96b710b6c1004258ade74c2d8ff6ca71": {
      "model_module": "@jupyter-widgets/base",
      "model_module_version": "1.2.0",
      "model_name": "LayoutModel",
      "state": {
       "_model_module": "@jupyter-widgets/base",
       "_model_module_version": "1.2.0",
       "_model_name": "LayoutModel",
       "_view_count": null,
       "_view_module": "@jupyter-widgets/base",
       "_view_module_version": "1.2.0",
       "_view_name": "LayoutView",
       "align_content": null,
       "align_items": null,
       "align_self": null,
       "border": null,
       "bottom": null,
       "display": null,
       "flex": null,
       "flex_flow": null,
       "grid_area": null,
       "grid_auto_columns": null,
       "grid_auto_flow": null,
       "grid_auto_rows": null,
       "grid_column": null,
       "grid_gap": null,
       "grid_row": null,
       "grid_template_areas": null,
       "grid_template_columns": null,
       "grid_template_rows": null,
       "height": null,
       "justify_content": null,
       "justify_items": null,
       "left": null,
       "margin": null,
       "max_height": null,
       "max_width": null,
       "min_height": null,
       "min_width": null,
       "object_fit": null,
       "object_position": null,
       "order": null,
       "overflow": null,
       "overflow_x": null,
       "overflow_y": null,
       "padding": null,
       "right": null,
       "top": null,
       "visibility": null,
       "width": null
      }
     },
     "96b8b414e55248d282607e7ace75f6b4": {
      "model_module": "@jupyter-widgets/controls",
      "model_module_version": "1.5.0",
      "model_name": "HTMLModel",
      "state": {
       "_dom_classes": [],
       "_model_module": "@jupyter-widgets/controls",
       "_model_module_version": "1.5.0",
       "_model_name": "HTMLModel",
       "_view_count": null,
       "_view_module": "@jupyter-widgets/controls",
       "_view_module_version": "1.5.0",
       "_view_name": "HTMLView",
       "description": "",
       "description_tooltip": null,
       "layout": "IPY_MODEL_ff77255ef4ea44e2bc5ca9f6e006644a",
       "placeholder": "​",
       "style": "IPY_MODEL_e63e7453ca964ef9b5a1d8eeb31fab58",
       "value": "Downloading data: 100%"
      }
     },
     "9a820f8e22d242d1942257a80d86bf6f": {
      "model_module": "@jupyter-widgets/base",
      "model_module_version": "1.2.0",
      "model_name": "LayoutModel",
      "state": {
       "_model_module": "@jupyter-widgets/base",
       "_model_module_version": "1.2.0",
       "_model_name": "LayoutModel",
       "_view_count": null,
       "_view_module": "@jupyter-widgets/base",
       "_view_module_version": "1.2.0",
       "_view_name": "LayoutView",
       "align_content": null,
       "align_items": null,
       "align_self": null,
       "border": null,
       "bottom": null,
       "display": null,
       "flex": null,
       "flex_flow": null,
       "grid_area": null,
       "grid_auto_columns": null,
       "grid_auto_flow": null,
       "grid_auto_rows": null,
       "grid_column": null,
       "grid_gap": null,
       "grid_row": null,
       "grid_template_areas": null,
       "grid_template_columns": null,
       "grid_template_rows": null,
       "height": null,
       "justify_content": null,
       "justify_items": null,
       "left": null,
       "margin": null,
       "max_height": null,
       "max_width": null,
       "min_height": null,
       "min_width": null,
       "object_fit": null,
       "object_position": null,
       "order": null,
       "overflow": null,
       "overflow_x": null,
       "overflow_y": null,
       "padding": null,
       "right": null,
       "top": null,
       "visibility": null,
       "width": null
      }
     },
     "a6aa4dfd1d724bcc8fa83413b935048d": {
      "model_module": "@jupyter-widgets/base",
      "model_module_version": "1.2.0",
      "model_name": "LayoutModel",
      "state": {
       "_model_module": "@jupyter-widgets/base",
       "_model_module_version": "1.2.0",
       "_model_name": "LayoutModel",
       "_view_count": null,
       "_view_module": "@jupyter-widgets/base",
       "_view_module_version": "1.2.0",
       "_view_name": "LayoutView",
       "align_content": null,
       "align_items": null,
       "align_self": null,
       "border": null,
       "bottom": null,
       "display": null,
       "flex": null,
       "flex_flow": null,
       "grid_area": null,
       "grid_auto_columns": null,
       "grid_auto_flow": null,
       "grid_auto_rows": null,
       "grid_column": null,
       "grid_gap": null,
       "grid_row": null,
       "grid_template_areas": null,
       "grid_template_columns": null,
       "grid_template_rows": null,
       "height": null,
       "justify_content": null,
       "justify_items": null,
       "left": null,
       "margin": null,
       "max_height": null,
       "max_width": null,
       "min_height": null,
       "min_width": null,
       "object_fit": null,
       "object_position": null,
       "order": null,
       "overflow": null,
       "overflow_x": null,
       "overflow_y": null,
       "padding": null,
       "right": null,
       "top": null,
       "visibility": null,
       "width": null
      }
     },
     "ac4d3bb1f8dd4e3d9aa650739818b1ad": {
      "model_module": "@jupyter-widgets/controls",
      "model_module_version": "1.5.0",
      "model_name": "DescriptionStyleModel",
      "state": {
       "_model_module": "@jupyter-widgets/controls",
       "_model_module_version": "1.5.0",
       "_model_name": "DescriptionStyleModel",
       "_view_count": null,
       "_view_module": "@jupyter-widgets/base",
       "_view_module_version": "1.2.0",
       "_view_name": "StyleView",
       "description_width": ""
      }
     },
     "b2f183156cbb4fe39349921dfb70d121": {
      "model_module": "@jupyter-widgets/base",
      "model_module_version": "1.2.0",
      "model_name": "LayoutModel",
      "state": {
       "_model_module": "@jupyter-widgets/base",
       "_model_module_version": "1.2.0",
       "_model_name": "LayoutModel",
       "_view_count": null,
       "_view_module": "@jupyter-widgets/base",
       "_view_module_version": "1.2.0",
       "_view_name": "LayoutView",
       "align_content": null,
       "align_items": null,
       "align_self": null,
       "border": null,
       "bottom": null,
       "display": null,
       "flex": null,
       "flex_flow": null,
       "grid_area": null,
       "grid_auto_columns": null,
       "grid_auto_flow": null,
       "grid_auto_rows": null,
       "grid_column": null,
       "grid_gap": null,
       "grid_row": null,
       "grid_template_areas": null,
       "grid_template_columns": null,
       "grid_template_rows": null,
       "height": null,
       "justify_content": null,
       "justify_items": null,
       "left": null,
       "margin": null,
       "max_height": null,
       "max_width": null,
       "min_height": null,
       "min_width": null,
       "object_fit": null,
       "object_position": null,
       "order": null,
       "overflow": null,
       "overflow_x": null,
       "overflow_y": null,
       "padding": null,
       "right": null,
       "top": null,
       "visibility": null,
       "width": null
      }
     },
     "b3ebdb1ddb1d48c28f1c75d8ab82500b": {
      "model_module": "@jupyter-widgets/controls",
      "model_module_version": "1.5.0",
      "model_name": "ProgressStyleModel",
      "state": {
       "_model_module": "@jupyter-widgets/controls",
       "_model_module_version": "1.5.0",
       "_model_name": "ProgressStyleModel",
       "_view_count": null,
       "_view_module": "@jupyter-widgets/base",
       "_view_module_version": "1.2.0",
       "_view_name": "StyleView",
       "bar_color": null,
       "description_width": ""
      }
     },
     "b7a7ee276cf4483c9d55778a59119c01": {
      "model_module": "@jupyter-widgets/controls",
      "model_module_version": "1.5.0",
      "model_name": "HBoxModel",
      "state": {
       "_dom_classes": [],
       "_model_module": "@jupyter-widgets/controls",
       "_model_module_version": "1.5.0",
       "_model_name": "HBoxModel",
       "_view_count": null,
       "_view_module": "@jupyter-widgets/controls",
       "_view_module_version": "1.5.0",
       "_view_name": "HBoxView",
       "box_style": "",
       "children": [
        "IPY_MODEL_cda03a4a50d944faa59c57e91fe05d87",
        "IPY_MODEL_25540449f14c4fcd8684ea408b4b4c3b",
        "IPY_MODEL_196235702a434ca7b3a1f92a3cd3d7d6"
       ],
       "layout": "IPY_MODEL_a6aa4dfd1d724bcc8fa83413b935048d"
      }
     },
     "bb21a74c9ab041c6a983352eeeada3e3": {
      "model_module": "@jupyter-widgets/controls",
      "model_module_version": "1.5.0",
      "model_name": "HBoxModel",
      "state": {
       "_dom_classes": [],
       "_model_module": "@jupyter-widgets/controls",
       "_model_module_version": "1.5.0",
       "_model_name": "HBoxModel",
       "_view_count": null,
       "_view_module": "@jupyter-widgets/controls",
       "_view_module_version": "1.5.0",
       "_view_name": "HBoxView",
       "box_style": "",
       "children": [
        "IPY_MODEL_1869e9f328bf4fdea7972f523919e209",
        "IPY_MODEL_cb355d51871b4ad1b444e7ceb5a0da43",
        "IPY_MODEL_5ed2f73bb68a423e9442046e1f699523"
       ],
       "layout": "IPY_MODEL_8521624b449c434d95336ba4c8efc8e5"
      }
     },
     "c61b9cfecdaf44dabf32abfb7479038a": {
      "model_module": "@jupyter-widgets/base",
      "model_module_version": "1.2.0",
      "model_name": "LayoutModel",
      "state": {
       "_model_module": "@jupyter-widgets/base",
       "_model_module_version": "1.2.0",
       "_model_name": "LayoutModel",
       "_view_count": null,
       "_view_module": "@jupyter-widgets/base",
       "_view_module_version": "1.2.0",
       "_view_name": "LayoutView",
       "align_content": null,
       "align_items": null,
       "align_self": null,
       "border": null,
       "bottom": null,
       "display": null,
       "flex": null,
       "flex_flow": null,
       "grid_area": null,
       "grid_auto_columns": null,
       "grid_auto_flow": null,
       "grid_auto_rows": null,
       "grid_column": null,
       "grid_gap": null,
       "grid_row": null,
       "grid_template_areas": null,
       "grid_template_columns": null,
       "grid_template_rows": null,
       "height": null,
       "justify_content": null,
       "justify_items": null,
       "left": null,
       "margin": null,
       "max_height": null,
       "max_width": null,
       "min_height": null,
       "min_width": null,
       "object_fit": null,
       "object_position": null,
       "order": null,
       "overflow": null,
       "overflow_x": null,
       "overflow_y": null,
       "padding": null,
       "right": null,
       "top": null,
       "visibility": null,
       "width": null
      }
     },
     "ca1b30e5ff2a4495aaa6d64783f44a26": {
      "model_module": "@jupyter-widgets/base",
      "model_module_version": "1.2.0",
      "model_name": "LayoutModel",
      "state": {
       "_model_module": "@jupyter-widgets/base",
       "_model_module_version": "1.2.0",
       "_model_name": "LayoutModel",
       "_view_count": null,
       "_view_module": "@jupyter-widgets/base",
       "_view_module_version": "1.2.0",
       "_view_name": "LayoutView",
       "align_content": null,
       "align_items": null,
       "align_self": null,
       "border": null,
       "bottom": null,
       "display": null,
       "flex": null,
       "flex_flow": null,
       "grid_area": null,
       "grid_auto_columns": null,
       "grid_auto_flow": null,
       "grid_auto_rows": null,
       "grid_column": null,
       "grid_gap": null,
       "grid_row": null,
       "grid_template_areas": null,
       "grid_template_columns": null,
       "grid_template_rows": null,
       "height": null,
       "justify_content": null,
       "justify_items": null,
       "left": null,
       "margin": null,
       "max_height": null,
       "max_width": null,
       "min_height": null,
       "min_width": null,
       "object_fit": null,
       "object_position": null,
       "order": null,
       "overflow": null,
       "overflow_x": null,
       "overflow_y": null,
       "padding": null,
       "right": null,
       "top": null,
       "visibility": null,
       "width": null
      }
     },
     "cb355d51871b4ad1b444e7ceb5a0da43": {
      "model_module": "@jupyter-widgets/controls",
      "model_module_version": "1.5.0",
      "model_name": "FloatProgressModel",
      "state": {
       "_dom_classes": [],
       "_model_module": "@jupyter-widgets/controls",
       "_model_module_version": "1.5.0",
       "_model_name": "FloatProgressModel",
       "_view_count": null,
       "_view_module": "@jupyter-widgets/controls",
       "_view_module_version": "1.5.0",
       "_view_name": "ProgressView",
       "bar_style": "success",
       "description": "",
       "description_tooltip": null,
       "layout": "IPY_MODEL_1fb3abe3a388436ab02bacec057e02d7",
       "max": 11863,
       "min": 0,
       "orientation": "horizontal",
       "style": "IPY_MODEL_677118d5fb4046deb62d52a433dde611",
       "value": 11863
      }
     },
     "cda03a4a50d944faa59c57e91fe05d87": {
      "model_module": "@jupyter-widgets/controls",
      "model_module_version": "1.5.0",
      "model_name": "HTMLModel",
      "state": {
       "_dom_classes": [],
       "_model_module": "@jupyter-widgets/controls",
       "_model_module_version": "1.5.0",
       "_model_name": "HTMLModel",
       "_view_count": null,
       "_view_module": "@jupyter-widgets/controls",
       "_view_module_version": "1.5.0",
       "_view_name": "HTMLView",
       "description": "",
       "description_tooltip": null,
       "layout": "IPY_MODEL_c61b9cfecdaf44dabf32abfb7479038a",
       "placeholder": "​",
       "style": "IPY_MODEL_6df9620752974f9d84d5549e30ffbd10",
       "value": "Generating train split: 100%"
      }
     },
     "cfc57e2f907f49d785612aa6bf4510ae": {
      "model_module": "@jupyter-widgets/controls",
      "model_module_version": "1.5.0",
      "model_name": "DescriptionStyleModel",
      "state": {
       "_model_module": "@jupyter-widgets/controls",
       "_model_module_version": "1.5.0",
       "_model_name": "DescriptionStyleModel",
       "_view_count": null,
       "_view_module": "@jupyter-widgets/base",
       "_view_module_version": "1.2.0",
       "_view_name": "StyleView",
       "description_width": ""
      }
     },
     "d0c9a2e045024d65b4d302e8dc6baee0": {
      "model_module": "@jupyter-widgets/base",
      "model_module_version": "1.2.0",
      "model_name": "LayoutModel",
      "state": {
       "_model_module": "@jupyter-widgets/base",
       "_model_module_version": "1.2.0",
       "_model_name": "LayoutModel",
       "_view_count": null,
       "_view_module": "@jupyter-widgets/base",
       "_view_module_version": "1.2.0",
       "_view_name": "LayoutView",
       "align_content": null,
       "align_items": null,
       "align_self": null,
       "border": null,
       "bottom": null,
       "display": null,
       "flex": null,
       "flex_flow": null,
       "grid_area": null,
       "grid_auto_columns": null,
       "grid_auto_flow": null,
       "grid_auto_rows": null,
       "grid_column": null,
       "grid_gap": null,
       "grid_row": null,
       "grid_template_areas": null,
       "grid_template_columns": null,
       "grid_template_rows": null,
       "height": null,
       "justify_content": null,
       "justify_items": null,
       "left": null,
       "margin": null,
       "max_height": null,
       "max_width": null,
       "min_height": null,
       "min_width": null,
       "object_fit": null,
       "object_position": null,
       "order": null,
       "overflow": null,
       "overflow_x": null,
       "overflow_y": null,
       "padding": null,
       "right": null,
       "top": null,
       "visibility": null,
       "width": null
      }
     },
     "d17d94d3d86a41d5999228fc1b73841e": {
      "model_module": "@jupyter-widgets/controls",
      "model_module_version": "1.5.0",
      "model_name": "HBoxModel",
      "state": {
       "_dom_classes": [],
       "_model_module": "@jupyter-widgets/controls",
       "_model_module_version": "1.5.0",
       "_model_name": "HBoxModel",
       "_view_count": null,
       "_view_module": "@jupyter-widgets/controls",
       "_view_module_version": "1.5.0",
       "_view_name": "HBoxView",
       "box_style": "",
       "children": [
        "IPY_MODEL_96b8b414e55248d282607e7ace75f6b4",
        "IPY_MODEL_33bbaa6be42b4a35b7afdabfef670fdf",
        "IPY_MODEL_e719abdc5db8443da31281154bc2cbe0"
       ],
       "layout": "IPY_MODEL_833e86d582a641a48fc854ad4d226935"
      }
     },
     "d87749a7381d4799b3c9ce490cb738d0": {
      "model_module": "@jupyter-widgets/base",
      "model_module_version": "1.2.0",
      "model_name": "LayoutModel",
      "state": {
       "_model_module": "@jupyter-widgets/base",
       "_model_module_version": "1.2.0",
       "_model_name": "LayoutModel",
       "_view_count": null,
       "_view_module": "@jupyter-widgets/base",
       "_view_module_version": "1.2.0",
       "_view_name": "LayoutView",
       "align_content": null,
       "align_items": null,
       "align_self": null,
       "border": null,
       "bottom": null,
       "display": null,
       "flex": null,
       "flex_flow": null,
       "grid_area": null,
       "grid_auto_columns": null,
       "grid_auto_flow": null,
       "grid_auto_rows": null,
       "grid_column": null,
       "grid_gap": null,
       "grid_row": null,
       "grid_template_areas": null,
       "grid_template_columns": null,
       "grid_template_rows": null,
       "height": null,
       "justify_content": null,
       "justify_items": null,
       "left": null,
       "margin": null,
       "max_height": null,
       "max_width": null,
       "min_height": null,
       "min_width": null,
       "object_fit": null,
       "object_position": null,
       "order": null,
       "overflow": null,
       "overflow_x": null,
       "overflow_y": null,
       "padding": null,
       "right": null,
       "top": null,
       "visibility": null,
       "width": null
      }
     },
     "dc91c448b3f14096b8e08e554b8412d2": {
      "model_module": "@jupyter-widgets/controls",
      "model_module_version": "1.5.0",
      "model_name": "HTMLModel",
      "state": {
       "_dom_classes": [],
       "_model_module": "@jupyter-widgets/controls",
       "_model_module_version": "1.5.0",
       "_model_name": "HTMLModel",
       "_view_count": null,
       "_view_module": "@jupyter-widgets/controls",
       "_view_module_version": "1.5.0",
       "_view_name": "HTMLView",
       "description": "",
       "description_tooltip": null,
       "layout": "IPY_MODEL_d87749a7381d4799b3c9ce490cb738d0",
       "placeholder": "​",
       "style": "IPY_MODEL_6bb8882bba504f7b92447c8a4cd2855d",
       "value": " 1020868/1020868 [00:12&lt;00:00, 79188.46 examples/s]"
      }
     },
     "dfdba2b719ae4845be4703a50fa874d2": {
      "model_module": "@jupyter-widgets/base",
      "model_module_version": "1.2.0",
      "model_name": "LayoutModel",
      "state": {
       "_model_module": "@jupyter-widgets/base",
       "_model_module_version": "1.2.0",
       "_model_name": "LayoutModel",
       "_view_count": null,
       "_view_module": "@jupyter-widgets/base",
       "_view_module_version": "1.2.0",
       "_view_name": "LayoutView",
       "align_content": null,
       "align_items": null,
       "align_self": null,
       "border": null,
       "bottom": null,
       "display": null,
       "flex": null,
       "flex_flow": null,
       "grid_area": null,
       "grid_auto_columns": null,
       "grid_auto_flow": null,
       "grid_auto_rows": null,
       "grid_column": null,
       "grid_gap": null,
       "grid_row": null,
       "grid_template_areas": null,
       "grid_template_columns": null,
       "grid_template_rows": null,
       "height": null,
       "justify_content": null,
       "justify_items": null,
       "left": null,
       "margin": null,
       "max_height": null,
       "max_width": null,
       "min_height": null,
       "min_width": null,
       "object_fit": null,
       "object_position": null,
       "order": null,
       "overflow": null,
       "overflow_x": null,
       "overflow_y": null,
       "padding": null,
       "right": null,
       "top": null,
       "visibility": null,
       "width": null
      }
     },
     "dfe8e1a0580a40a994ce798f5825514c": {
      "model_module": "@jupyter-widgets/controls",
      "model_module_version": "1.5.0",
      "model_name": "DescriptionStyleModel",
      "state": {
       "_model_module": "@jupyter-widgets/controls",
       "_model_module_version": "1.5.0",
       "_model_name": "DescriptionStyleModel",
       "_view_count": null,
       "_view_module": "@jupyter-widgets/base",
       "_view_module_version": "1.2.0",
       "_view_name": "StyleView",
       "description_width": ""
      }
     },
     "e63e7453ca964ef9b5a1d8eeb31fab58": {
      "model_module": "@jupyter-widgets/controls",
      "model_module_version": "1.5.0",
      "model_name": "DescriptionStyleModel",
      "state": {
       "_model_module": "@jupyter-widgets/controls",
       "_model_module_version": "1.5.0",
       "_model_name": "DescriptionStyleModel",
       "_view_count": null,
       "_view_module": "@jupyter-widgets/base",
       "_view_module_version": "1.2.0",
       "_view_name": "StyleView",
       "description_width": ""
      }
     },
     "e719abdc5db8443da31281154bc2cbe0": {
      "model_module": "@jupyter-widgets/controls",
      "model_module_version": "1.5.0",
      "model_name": "HTMLModel",
      "state": {
       "_dom_classes": [],
       "_model_module": "@jupyter-widgets/controls",
       "_model_module_version": "1.5.0",
       "_model_name": "HTMLModel",
       "_view_count": null,
       "_view_module": "@jupyter-widgets/controls",
       "_view_module_version": "1.5.0",
       "_view_name": "HTMLView",
       "description": "",
       "description_tooltip": null,
       "layout": "IPY_MODEL_d0c9a2e045024d65b4d302e8dc6baee0",
       "placeholder": "​",
       "style": "IPY_MODEL_7fe5dfc7c2a84740aaa2e286aad70459",
       "value": " 27.1M/27.1M [00:00&lt;00:00, 50.1MB/s]"
      }
     },
     "e76d7bc646fd4df79a947a50e0ff407d": {
      "model_module": "@jupyter-widgets/controls",
      "model_module_version": "1.5.0",
      "model_name": "ProgressStyleModel",
      "state": {
       "_model_module": "@jupyter-widgets/controls",
       "_model_module_version": "1.5.0",
       "_model_name": "ProgressStyleModel",
       "_view_count": null,
       "_view_module": "@jupyter-widgets/base",
       "_view_module_version": "1.2.0",
       "_view_name": "StyleView",
       "bar_color": null,
       "description_width": ""
      }
     },
     "ed0d64ef612f4d17b22f99cea493bc09": {
      "model_module": "@jupyter-widgets/controls",
      "model_module_version": "1.5.0",
      "model_name": "HTMLModel",
      "state": {
       "_dom_classes": [],
       "_model_module": "@jupyter-widgets/controls",
       "_model_module_version": "1.5.0",
       "_model_name": "HTMLModel",
       "_view_count": null,
       "_view_module": "@jupyter-widgets/controls",
       "_view_module_version": "1.5.0",
       "_view_name": "HTMLView",
       "description": "",
       "description_tooltip": null,
       "layout": "IPY_MODEL_f1de5965436146138ca4e476a0b7ce00",
       "placeholder": "​",
       "style": "IPY_MODEL_4bfe479b88144808a06eacd818a6fae3",
       "value": " 8.64k/8.64k [00:00&lt;00:00, 755kB/s]"
      }
     },
     "edb8e79ec2994f7fac9ccd67c4b6f70b": {
      "model_module": "@jupyter-widgets/base",
      "model_module_version": "1.2.0",
      "model_name": "LayoutModel",
      "state": {
       "_model_module": "@jupyter-widgets/base",
       "_model_module_version": "1.2.0",
       "_model_name": "LayoutModel",
       "_view_count": null,
       "_view_module": "@jupyter-widgets/base",
       "_view_module_version": "1.2.0",
       "_view_name": "LayoutView",
       "align_content": null,
       "align_items": null,
       "align_self": null,
       "border": null,
       "bottom": null,
       "display": null,
       "flex": null,
       "flex_flow": null,
       "grid_area": null,
       "grid_auto_columns": null,
       "grid_auto_flow": null,
       "grid_auto_rows": null,
       "grid_column": null,
       "grid_gap": null,
       "grid_row": null,
       "grid_template_areas": null,
       "grid_template_columns": null,
       "grid_template_rows": null,
       "height": null,
       "justify_content": null,
       "justify_items": null,
       "left": null,
       "margin": null,
       "max_height": null,
       "max_width": null,
       "min_height": null,
       "min_width": null,
       "object_fit": null,
       "object_position": null,
       "order": null,
       "overflow": null,
       "overflow_x": null,
       "overflow_y": null,
       "padding": null,
       "right": null,
       "top": null,
       "visibility": null,
       "width": null
      }
     },
     "f1de5965436146138ca4e476a0b7ce00": {
      "model_module": "@jupyter-widgets/base",
      "model_module_version": "1.2.0",
      "model_name": "LayoutModel",
      "state": {
       "_model_module": "@jupyter-widgets/base",
       "_model_module_version": "1.2.0",
       "_model_name": "LayoutModel",
       "_view_count": null,
       "_view_module": "@jupyter-widgets/base",
       "_view_module_version": "1.2.0",
       "_view_name": "LayoutView",
       "align_content": null,
       "align_items": null,
       "align_self": null,
       "border": null,
       "bottom": null,
       "display": null,
       "flex": null,
       "flex_flow": null,
       "grid_area": null,
       "grid_auto_columns": null,
       "grid_auto_flow": null,
       "grid_auto_rows": null,
       "grid_column": null,
       "grid_gap": null,
       "grid_row": null,
       "grid_template_areas": null,
       "grid_template_columns": null,
       "grid_template_rows": null,
       "height": null,
       "justify_content": null,
       "justify_items": null,
       "left": null,
       "margin": null,
       "max_height": null,
       "max_width": null,
       "min_height": null,
       "min_width": null,
       "object_fit": null,
       "object_position": null,
       "order": null,
       "overflow": null,
       "overflow_x": null,
       "overflow_y": null,
       "padding": null,
       "right": null,
       "top": null,
       "visibility": null,
       "width": null
      }
     },
     "f25952964fa847f0aa9de8f40cea095f": {
      "model_module": "@jupyter-widgets/controls",
      "model_module_version": "1.5.0",
      "model_name": "ProgressStyleModel",
      "state": {
       "_model_module": "@jupyter-widgets/controls",
       "_model_module_version": "1.5.0",
       "_model_name": "ProgressStyleModel",
       "_view_count": null,
       "_view_module": "@jupyter-widgets/base",
       "_view_module_version": "1.2.0",
       "_view_name": "StyleView",
       "bar_color": null,
       "description_width": ""
      }
     },
     "f8df3371a7784a7f99500664dc332318": {
      "model_module": "@jupyter-widgets/controls",
      "model_module_version": "1.5.0",
      "model_name": "ProgressStyleModel",
      "state": {
       "_model_module": "@jupyter-widgets/controls",
       "_model_module_version": "1.5.0",
       "_model_name": "ProgressStyleModel",
       "_view_count": null,
       "_view_module": "@jupyter-widgets/base",
       "_view_module_version": "1.2.0",
       "_view_name": "StyleView",
       "bar_color": null,
       "description_width": ""
      }
     },
     "ff77255ef4ea44e2bc5ca9f6e006644a": {
      "model_module": "@jupyter-widgets/base",
      "model_module_version": "1.2.0",
      "model_name": "LayoutModel",
      "state": {
       "_model_module": "@jupyter-widgets/base",
       "_model_module_version": "1.2.0",
       "_model_name": "LayoutModel",
       "_view_count": null,
       "_view_module": "@jupyter-widgets/base",
       "_view_module_version": "1.2.0",
       "_view_name": "LayoutView",
       "align_content": null,
       "align_items": null,
       "align_self": null,
       "border": null,
       "bottom": null,
       "display": null,
       "flex": null,
       "flex_flow": null,
       "grid_area": null,
       "grid_auto_columns": null,
       "grid_auto_flow": null,
       "grid_auto_rows": null,
       "grid_column": null,
       "grid_gap": null,
       "grid_row": null,
       "grid_template_areas": null,
       "grid_template_columns": null,
       "grid_template_rows": null,
       "height": null,
       "justify_content": null,
       "justify_items": null,
       "left": null,
       "margin": null,
       "max_height": null,
       "max_width": null,
       "min_height": null,
       "min_width": null,
       "object_fit": null,
       "object_position": null,
       "order": null,
       "overflow": null,
       "overflow_x": null,
       "overflow_y": null,
       "padding": null,
       "right": null,
       "top": null,
       "visibility": null,
       "width": null
      }
     }
    },
    "version_major": 2,
    "version_minor": 0
   }
  }
 },
 "nbformat": 4,
 "nbformat_minor": 5
}
